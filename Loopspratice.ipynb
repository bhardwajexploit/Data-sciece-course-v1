{
 "cells": [
  {
   "cell_type": "code",
   "execution_count": null,
   "metadata": {},
   "outputs": [],
   "source": [
    "#Write a program to print numbers from 1 to 10 using a for loop.\n",
    "i=1\n",
    "for i in range(1,11):\n",
    "    print(i)"
   ]
  },
  {
   "cell_type": "code",
   "execution_count": null,
   "metadata": {},
   "outputs": [],
   "source": [
    "#Write a program to find the largest and smallest elements in an array using a for loop.\n",
    "Num=[11,12,32,54,45,64]\n",
    "lg=len(Num)\n",
    "lar=Num[0]\n",
    "small=Num[0]\n",
    "for i in range(1,lg):\n",
    "    if(Num[i]> lar):\n",
    "        lar=Num[i]\n",
    "    elif(Num[i] < small):\n",
    "        small=Num[i]\n",
    "    \n",
    "print(f\"largest is {lar} and smallest is {small}\")\n",
    "        \n",
    "\n"
   ]
  },
  {
   "cell_type": "code",
   "execution_count": null,
   "metadata": {},
   "outputs": [],
   "source": [
    "#Write a program to print the multiplication table of a given number using a while loop.\n",
    "Numb=int(input(\"enter an integer\"))\n",
    "\n",
    "i=1\n",
    "for i in range(1,11):\n",
    "    result=Numb * i\n",
    "    print(f'{Numb:2} * {i} = {result:>2}')"
   ]
  },
  {
   "cell_type": "code",
   "execution_count": null,
   "metadata": {},
   "outputs": [],
   "source": [
    "# Write a program to count the number of vowels in a given string using a for loop.\n",
    "\n",
    "st=\"Digipodium\"\n",
    "\n",
    "count=0\n",
    "for i in st:\n",
    "    if(i.lower() in 'aeiou'): \n",
    "        count+=1\n",
    "print(f\" number of vowels in string are {count}\")       "
   ]
  },
  {
   "cell_type": "code",
   "execution_count": null,
   "metadata": {},
   "outputs": [],
   "source": [
    "# Write a program to calculate the factorial of a number using a for loop.\n",
    "num=int(input(\"enter a number\"))\n",
    "fact=1\n",
    "for i in range(1,num+1):\n",
    "    fact=fact*i\n",
    "print(fact)\n"
   ]
  },
  {
   "cell_type": "code",
   "execution_count": null,
   "metadata": {},
   "outputs": [],
   "source": [
    "\n",
    "# Write a program to print the ASCII values of all uppercase letters using a for loop.\n",
    "ch=[]\n",
    "for i in range(ord('a'),ord(\"z\")+1):#using ord function to change\n",
    "    c=chr(i).upper()\n",
    "    ch.append(ord(c))\n",
    "print(ch)\n",
    " \n"
   ]
  },
  {
   "cell_type": "code",
   "execution_count": null,
   "metadata": {},
   "outputs": [],
   "source": [
    "# Write a program to find the sum of all even numbers between 1 and 100 using a for loop.\n",
    "result=0\n",
    "for i in range(1,101):\n",
    "    if i%2==0:\n",
    "        result+=i\n",
    "print(f\"sum is {result}\")\n",
    "\n"
   ]
  },
  {
   "cell_type": "code",
   "execution_count": null,
   "metadata": {},
   "outputs": [],
   "source": [
    "# Write a program to print the Fibonacci series up to a given limit using a while loop.\n",
    "num=int(input(\"enter the size of the series \"))\n",
    "a=0\n",
    "b=1\n",
    "i=2\n",
    "print(f'{a} {b}',end='')\n",
    "while(i<num):\n",
    "    s=a+b\n",
    "    print(f' {s}',end='')\n",
    "    a=b\n",
    "    b=s\n",
    "    i=i+1\n"
   ]
  },
  {
   "cell_type": "code",
   "execution_count": 2,
   "metadata": {},
   "outputs": [
    {
     "name": "stdout",
     "output_type": "stream",
     "text": [
      "3 is a prime number.\n"
     ]
    }
   ],
   "source": [
    "#prime number \n",
    "num = int(input(\"Enter a number to check: \"))\n",
    "is_prime = True\n",
    "\n",
    "if num <= 1:\n",
    "    is_prime = False\n",
    "else:\n",
    "    i = 2\n",
    "    while i*i <= num:\n",
    "        if num % i == 0:\n",
    "            is_prime = False\n",
    "            break\n",
    "        i += 1\n",
    "\n",
    "if is_prime:\n",
    "    print(f\"{num} is a prime number.\")\n",
    "else:\n",
    "    print(f\"{num} is not a prime number.\")\n"
   ]
  },
  {
   "cell_type": "code",
   "execution_count": null,
   "metadata": {},
   "outputs": [],
   "source": [
    "# Write a program to find the largest element in an array using a for loop.\n",
    "\n",
    "num=[1,2,3,4,15,6,7,8,9]\n",
    "l=num[0]\n",
    "lg=len(num)\n",
    "\n",
    "\n",
    "for i in range(1,lg):\n",
    "    if l < num[i]:\n",
    "        l = num[i]\n",
    "\n",
    "\n",
    "\n",
    "\n",
    "print(f'{l} is the  largest in {num}')\n"
   ]
  },
  {
   "cell_type": "code",
   "execution_count": 11,
   "metadata": {},
   "outputs": [
    {
     "name": "stdout",
     "output_type": "stream",
     "text": [
      "hsuya is the reversed string \n"
     ]
    }
   ],
   "source": [
    "# Write a program to reverse a given string using a while loop.\n",
    "a=\"ayush\"\n",
    "index=len(a)-1\n",
    "r=''\n",
    "\n",
    "while(index >= 0):\n",
    "     r+=a[index]\n",
    "     index-=1\n",
    "print(f'{r} is the reversed string ')\n",
    "\n",
    "\n",
    "\n",
    "\n",
    "\n",
    "   \n"
   ]
  },
  {
   "cell_type": "code",
   "execution_count": 13,
   "metadata": {},
   "outputs": [
    {
     "name": "stdout",
     "output_type": "stream",
     "text": [
      "Nitin is plaindrome \n"
     ]
    }
   ],
   "source": [
    "# Write a program to check if a given string is a palindrome using a while loop.\n",
    "N='Nitin'\n",
    "a=N[::-1]\n",
    "if (N.lower() == a.lower()):\n",
    "    print(f'{N} is plaindrome ')\n",
    "else:\n",
    "    print(f'{N} is not plaindrome ')\n",
    "\n"
   ]
  },
  {
   "cell_type": "code",
   "execution_count": 14,
   "metadata": {},
   "outputs": [
    {
     "name": "stdout",
     "output_type": "stream",
     "text": [
      "5 is the average of list \n"
     ]
    }
   ],
   "source": [
    "# Write a program to calculate the average of a list of numbers using a for loop.\n",
    "a=[5,5,5,5,5,]\n",
    "lg=len(a)\n",
    "sum=0\n",
    "for i in a:\n",
    "    sum= sum+i // lg\n",
    "print(f'{sum} is the average of list ')\n"
   ]
  },
  {
   "cell_type": "code",
   "execution_count": 15,
   "metadata": {},
   "outputs": [
    {
     "name": "stdout",
     "output_type": "stream",
     "text": [
      "2011 is not a leap year\n",
      "2016 is the years\n"
     ]
    }
   ],
   "source": [
    "#Write a program to check if a given year is a leap year using a while loop.\n",
    "y=int(input(\"enter the year\"))\n",
    "while(True):\n",
    "    if(y%4==0):\n",
    "        print(f'{y} is evenyears')\n",
    "        break\n",
    "    else:\n",
    "        print(f'{y} is not a leap year')\n",
    "        y=int(input(\"Renter the year\"))\n",
    "        continue"
   ]
  },
  {
   "cell_type": "code",
   "execution_count": null,
   "metadata": {},
   "outputs": [],
   "source": []
  }
 ],
 "metadata": {
  "kernelspec": {
   "display_name": "base",
   "language": "python",
   "name": "python3"
  },
  "language_info": {
   "codemirror_mode": {
    "name": "ipython",
    "version": 3
   },
   "file_extension": ".py",
   "mimetype": "text/x-python",
   "name": "python",
   "nbconvert_exporter": "python",
   "pygments_lexer": "ipython3",
   "version": "3.10.10"
  },
  "orig_nbformat": 4
 },
 "nbformat": 4,
 "nbformat_minor": 2
}
