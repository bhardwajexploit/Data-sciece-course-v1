{
 "cells": [
  {
   "cell_type": "code",
   "execution_count": null,
   "metadata": {},
   "outputs": [],
   "source": [
    "#for is step based loop(traversing a sequence)\n",
    "#while is condition/user based loop(when no of repetion is unknown or a condition is given)\n",
    "\n",
    "x=\"ayush\"\n",
    "for i in x:\n",
    " # x is a iterable.ITerable in pyhton are String,list, generaters(special functions),range\n",
    "  print(x)"
   ]
  },
  {
   "cell_type": "code",
   "execution_count": null,
   "metadata": {},
   "outputs": [],
   "source": [
    "# list=[]\n",
    "Names =[\n",
    "    'ayush',\n",
    "    'Abhay',\n",
    "    'udit',\n",
    "    'sachin',\n",
    "    'ajay',\n",
    "    'vishal',\n",
    "    'sambhav',\n",
    "    'anshul',\n",
    "    'bali',\n",
    "    'Raj',\n",
    "]\n",
    "print(len(Names))"
   ]
  },
  {
   "cell_type": "code",
   "execution_count": null,
   "metadata": {},
   "outputs": [],
   "source": [
    "for i in Names:\n",
    "    print(f\"{i:7} {len(i):>7} chars\")"
   ]
  },
  {
   "cell_type": "code",
   "execution_count": null,
   "metadata": {},
   "outputs": [],
   "source": [
    "\n",
    "for i in Names:\n",
    "    if(\"A\" in i or \"a\" in i): # using in operator \n",
    "        print(f\" a is present in {i}\")\n"
   ]
  },
  {
   "cell_type": "code",
   "execution_count": null,
   "metadata": {},
   "outputs": [],
   "source": [
    "#nested loop \n",
    "Books=[\n",
    "    [\"The Enigma of Shadows\" , 'by Amelia Blackwood', 4.5],# list should have a comma at last\n",
    "    [\"Echoes of Eternity\", \"by Marcus Anderson \", 4],\n",
    "    ['The Art of Serendipity',' by Penelope Hartman', 4.2],\n",
    "    [\"Whispers of the Moon\", 'by Evelyn Roberts' , 4.6],\n",
    "    ['The Forgotten Symphony','by Julian Matthews', 4.8],\n",
    "    [\"The Quantum Paradox\" ,'by Oliver Richards' , 4.3],\n",
    "    ['Ink and Ivory',' by Charlotte Turner', 4.7],\n",
    "    [\"Beneath the Veil\" ,'by Gabriel Morgan ', 4.4],\n",
    "    [\"The Symphony of Stars\" ,'by Isabella Vega ',4.9],\n",
    "   [ \"The Alchemist's Daughter\" ,'by Benjamin Hawthorne' , 4.5],\n",
    "]\n",
    "   \n",
    "\n",
    "for book in Books:\n",
    "    for i in book:\n",
    "         print(i)\n",
    "    print()\n",
    "\n"
   ]
  },
  {
   "cell_type": "code",
   "execution_count": null,
   "metadata": {},
   "outputs": [],
   "source": [
    "#use of break\n",
    "Prices=[230,530,690,550,120,190,900,760,800,None]\n",
    "for i in Prices:\n",
    "  if i is None:\n",
    "     break\n",
    "  print(i)\n"
   ]
  },
  {
   "cell_type": "code",
   "execution_count": null,
   "metadata": {},
   "outputs": [],
   "source": [
    "# for index based accesss\n",
    "for i in Books:\n",
    "     print(f\"author: {i[1]}\")\n",
    "     print(f\"Rating: {i[2]}\")\n",
    "     print(f\"book: {i[0]}\")\n",
    "     print()\n",
    "        "
   ]
  },
  {
   "cell_type": "code",
   "execution_count": null,
   "metadata": {},
   "outputs": [],
   "source": [
    "# use of Continue\n",
    "Prices=[230,None,690,None,120,190,900,760,800,None]\n",
    "for i in Prices:\n",
    "  if i is None:\n",
    "     continue\n",
    "  print(i)\n"
   ]
  },
  {
   "cell_type": "code",
   "execution_count": null,
   "metadata": {},
   "outputs": [],
   "source": [
    "# for enumrate \n",
    "Names =[\n",
    "    'ayush',\n",
    "    'Abhay',\n",
    "    'udit',\n",
    "    'sachin',\n",
    "    'ajay',\n",
    "    'vishal',\n",
    "    'sambhav',\n",
    "    'anshul',\n",
    "    'bali',\n",
    "    'Raj',\n",
    "]\n",
    "\n",
    "for id,n in enumerate(Names):\n",
    "    print(id,n)\n"
   ]
  },
  {
   "cell_type": "code",
   "execution_count": null,
   "metadata": {},
   "outputs": [],
   "source": [
    "#zip() used for multiple statements in for loop\n",
    "grocery=['bread', 'milk',\"cheese\"]\n",
    "qty=[2,1,2]\n",
    "price=[20,40,90]\n",
    "\n",
    "for g,q,p in zip(grocery,price,qty):\n",
    "    print(f\"{g:7}{p:7}{q:7}{p*q:7}\")"
   ]
  },
  {
   "cell_type": "code",
   "execution_count": 28,
   "metadata": {},
   "outputs": [
    {
     "name": "stdout",
     "output_type": "stream",
     "text": [
      "prime\n"
     ]
    }
   ],
   "source": [
    "#using else for (for-loop)\n",
    "num=17\n",
    "for i in range(2,num):\n",
    "    if(num%i == 0):\n",
    "        print(f\"not a prime\")\n",
    "        break\n",
    "else:# this else is used (for-block) not if block\n",
    "          print(f\"prime\")"
   ]
  },
  {
   "cell_type": "code",
   "execution_count": 6,
   "metadata": {},
   "outputs": [
    {
     "name": "stdout",
     "output_type": "stream",
     "text": [
      "5\n",
      "54\n",
      "543\n",
      "5432\n",
      "54321\n"
     ]
    }
   ],
   "source": [
    "#while loop\n",
    "num=12345\n",
    "r=0\n",
    "# reverse number\n",
    "while num>0: \n",
    "    q=num % 10\n",
    "    r= r * 10 + q\n",
    "    num= num // 10 \n",
    "    print(r)\n"
   ]
  },
  {
   "cell_type": "code",
   "execution_count": 39,
   "metadata": {},
   "outputs": [
    {
     "name": "stdout",
     "output_type": "stream",
     "text": [
      "authenticated\n"
     ]
    }
   ],
   "source": [
    "username=\"Ayush\"\n",
    "password=\"ayush!@12\"\n",
    "\n",
    "while True:\n",
    "    u=input(\"enter username\")\n",
    "    p=input(\"enter password\")\n",
    "    if u == username and p == password:\n",
    "        print(\"authenticated\")\n",
    "        break\n",
    "    else:\n",
    "        print(\"invaild crendentials\")\n",
    "        continue"
   ]
  }
 ],
 "metadata": {
  "kernelspec": {
   "display_name": "base",
   "language": "python",
   "name": "python3"
  },
  "language_info": {
   "codemirror_mode": {
    "name": "ipython",
    "version": 3
   },
   "file_extension": ".py",
   "mimetype": "text/x-python",
   "name": "python",
   "nbconvert_exporter": "python",
   "pygments_lexer": "ipython3",
   "version": "3.10.10"
  },
  "orig_nbformat": 4
 },
 "nbformat": 4,
 "nbformat_minor": 2
}
