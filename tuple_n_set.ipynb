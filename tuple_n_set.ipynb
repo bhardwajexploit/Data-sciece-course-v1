{
 "cells": [
  {
   "cell_type": "code",
   "execution_count": 1,
   "metadata": {},
   "outputs": [
    {
     "name": "stdout",
     "output_type": "stream",
     "text": [
      "<class 'tuple'>\n"
     ]
    }
   ],
   "source": [
    "#default data type tuple\n",
    "#tuple\n",
    "x=(1,2,3)\n",
    "print(type(x))\n"
   ]
  },
  {
   "cell_type": "code",
   "execution_count": 2,
   "metadata": {},
   "outputs": [
    {
     "name": "stdout",
     "output_type": "stream",
     "text": [
      "(1, 2, 3, 4, 5, 6)\n",
      "('h', 'e', 'l', 'l', 'o')\n"
     ]
    }
   ],
   "source": [
    "#second way of making tuple\n",
    "z=tuple([1,2,3,4,5,6])\n",
    "zs=tuple('hello')\n",
    "print(z)\n",
    "print(zs)"
   ]
  },
  {
   "cell_type": "code",
   "execution_count": 4,
   "metadata": {},
   "outputs": [
    {
     "data": {
      "text/plain": [
       "6"
      ]
     },
     "execution_count": 4,
     "metadata": {},
     "output_type": "execute_result"
    }
   ],
   "source": [
    "#tuple functions\n",
    "x=(12,12,12,12,12,12,13)\n",
    "print(x.count(12))\n",
    "print(x.index(13))\n"
   ]
  },
  {
   "cell_type": "code",
   "execution_count": 10,
   "metadata": {},
   "outputs": [
    {
     "data": {
      "text/plain": [
       "tuple"
      ]
     },
     "execution_count": 10,
     "metadata": {},
     "output_type": "execute_result"
    }
   ],
   "source": [
    "z=(1,) #(comma is used to give single element tuple )\n",
    "type(z)"
   ]
  },
  {
   "cell_type": "code",
   "execution_count": 14,
   "metadata": {},
   "outputs": [
    {
     "name": "stdout",
     "output_type": "stream",
     "text": [
      "(12, 12, 12, 12, 12, 12, 13)\n",
      "(12, 12, 12, 12, 12, 12, 13)\n"
     ]
    }
   ],
   "source": [
    "#tuple packing\n",
    "a=x\n",
    "print(a)\n",
    "a,b,c,d,e,f,g=x\n",
    "print(x)\n",
    "#common error\n",
    "\n",
    "# not enough values to unpack(if given more variables and less data)\n",
    "#too many values to unpack (if given less variables and more data)\n",
    "\n"
   ]
  },
  {
   "cell_type": "code",
   "execution_count": 17,
   "metadata": {},
   "outputs": [
    {
     "name": "stdout",
     "output_type": "stream",
     "text": [
      "12 12 [12, 12, 12, 12, 13]\n",
      "12 [12, 12, 12, 12, 12, 13]\n",
      "12 [12, 12, 12, 12, 12] 13\n"
     ]
    }
   ],
   "source": [
    "a,b, *c = x #tuple unpacking\n",
    "print(a,b,c)\n",
    "a,*b = x\n",
    "print(a,b)\n",
    "a,*b,c= x\n",
    "print(a,b,c)"
   ]
  },
  {
   "cell_type": "code",
   "execution_count": 25,
   "metadata": {},
   "outputs": [
    {
     "name": "stdout",
     "output_type": "stream",
     "text": [
      "{1, 4, 5, 6, 7, 9, 10}\n"
     ]
    },
    {
     "data": {
      "text/plain": [
       "{1, 4, 5, 6, 7, 10, 12}"
      ]
     },
     "execution_count": 25,
     "metadata": {},
     "output_type": "execute_result"
    }
   ],
   "source": [
    "#set\n",
    "x={1,10,4,5,6,7,9,9}\n",
    "print(x)\n",
    "#add()\n",
    "x.add(12)\n",
    "#discard() it is fail safe             \n",
    "#(dont use remove() because it give error if not present)\n",
    "x.discard(9)\n",
    "x\n",
    "\n"
   ]
  },
  {
   "cell_type": "code",
   "execution_count": 35,
   "metadata": {},
   "outputs": [
    {
     "name": "stdout",
     "output_type": "stream",
     "text": [
      "{0, 4, 5, 6, 7, 8, 9}\n",
      "{0, 3, 4, 5, 6, 7, 8, 9}\n",
      "{9}\n",
      "{9}\n",
      "{1, 2, 3}\n",
      "{1, 2, 3}\n",
      "{4, 5, 6}\n",
      "{4, 5, 6}\n",
      "False\n",
      "False\n",
      "False\n",
      "False\n"
     ]
    }
   ],
   "source": [
    "#union \n",
    "a={1,3,4,5,7,2,3,9,5}\n",
    "b={0,9,8,7}\n",
    "c={0,6,5,4,7,8,9,9}\n",
    "d={9,3,4,5,6}\n",
    "e={11,12,13,14,15}\n",
    "# union\n",
    "print(b | c )\n",
    "print(b.union(c).union(d))\n",
    "#intersection\n",
    "print(b & d)\n",
    "print(b.intersection(c).intersection(d))\n",
    "# difference\n",
    "# (shows unique items)\n",
    "print(a - c)\n",
    "print(a.difference(c))\n",
    "#symmetric difference(vice-versa of intersection)\n",
    "print(b^c)\n",
    "print(b.symmetric_difference(c))\n",
    "\n",
    "#some used functions\n",
    "print(b.isdisjoint(c))\n",
    "print(b.issuperset(c))\n",
    "print(b.isdisjoint(d))\n",
    "print(b.isdisjoint(d))"
   ]
  }
 ],
 "metadata": {
  "kernelspec": {
   "display_name": "base",
   "language": "python",
   "name": "python3"
  },
  "language_info": {
   "codemirror_mode": {
    "name": "ipython",
    "version": 3
   },
   "file_extension": ".py",
   "mimetype": "text/x-python",
   "name": "python",
   "nbconvert_exporter": "python",
   "pygments_lexer": "ipython3",
   "version": "3.10.10"
  },
  "orig_nbformat": 4
 },
 "nbformat": 4,
 "nbformat_minor": 2
}
