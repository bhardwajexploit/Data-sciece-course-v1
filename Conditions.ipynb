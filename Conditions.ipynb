{
 "cells": [
  {
   "cell_type": "code",
   "execution_count": 30,
   "metadata": {},
   "outputs": [
    {
     "name": "stdout",
     "output_type": "stream",
     "text": [
      "number is even\n",
      "not in else block\n"
     ]
    }
   ],
   "source": [
    "#True values \n",
    "#1: any non-zero number\n",
    "#2: any non-empty string\n",
    "#3: any non-empty data-structure \n",
    "\n",
    "bool(\"Ayush\")# just testing data \n",
    "\n",
    "#false values\n",
    "# 0\n",
    "# vice-versa of above conditions\n",
    "\n",
    "#if else\n",
    "x=int(input(\"enter a number\"))\n",
    "if x%2 == 0: \n",
    "    print(\"number is even\")\n",
    "else:\n",
    "    print(\"number is odd\")\n",
    "\n",
    "print(\"not in else block\")#identation in python is important \n",
    "\n",
    "\n"
   ]
  },
  {
   "cell_type": "code",
   "execution_count": 29,
   "metadata": {},
   "outputs": [
    {
     "name": "stdout",
     "output_type": "stream",
     "text": [
      "wrong number\n"
     ]
    }
   ],
   "source": [
    "#Nested if-else\n",
    "x=int(input(\"enter a number\"))\n",
    "if x>25:\n",
    "    if x == 50:\n",
    "            print(f'{x} is greater than 25 and equal to 50')\n",
    "else:\n",
    "      print(\"wrong number\")\n"
   ]
  },
  {
   "cell_type": "code",
   "execution_count": 31,
   "metadata": {},
   "outputs": [
    {
     "name": "stdout",
     "output_type": "stream",
     "text": [
      "30 is the greatest\n"
     ]
    }
   ],
   "source": [
    "#elif statment \n",
    "a,b,c=10,20,30\n",
    "\n",
    "if a>b and a>c:\n",
    "    print(\"{a} is the greatest \")\n",
    "elif a>b and a>c:\n",
    "    print(f\"{b} is the greatest \")\n",
    "else:\n",
    "    print(f\"{c} is the greatest\")"
   ]
  },
  {
   "cell_type": "code",
   "execution_count": 34,
   "metadata": {},
   "outputs": [
    {
     "name": "stdout",
     "output_type": "stream",
     "text": [
      "username should not be numeric\n"
     ]
    }
   ],
   "source": [
    "user=input('enter the username')\n",
    "pwd=input(\"password\")\n",
    "if len(user) < 3:\n",
    "    print(f\" username should be greater than 3\")\n",
    "elif len(pwd) < 8:\n",
    "    print(f\" password should be greater than 8 char\")\n",
    "elif not user.isalpha():\n",
    "    print(f\"username should not be numeric\")\n",
    "else:\n",
    "    print(f\"authorized\")\n",
    "    # here we used len function\n",
    "    #String functions"
   ]
  },
  {
   "cell_type": "code",
   "execution_count": 35,
   "metadata": {},
   "outputs": [
    {
     "name": "stdout",
     "output_type": "stream",
     "text": [
      "wrong day\n"
     ]
    }
   ],
   "source": [
    "#Match case in  version py3:10\n",
    "#its used for checking mutiple conditions of a single variable\n",
    "# underscore _ is used for default conditions\n",
    "day=input(\"day\")\n",
    "match day:\n",
    "    case 'sunday'| \"holiday\": #mutiple values can be given in match conditionals statment\n",
    "        print(\"chill\")\n",
    "    case  'monday':\n",
    "        print('work')\n",
    "    case _:\n",
    "        print(\"wrong day\")"
   ]
  }
 ],
 "metadata": {
  "kernelspec": {
   "display_name": "base",
   "language": "python",
   "name": "python3"
  },
  "language_info": {
   "name": "python",
   "version": "3.10.10"
  },
  "orig_nbformat": 4
 },
 "nbformat": 4,
 "nbformat_minor": 2
}
