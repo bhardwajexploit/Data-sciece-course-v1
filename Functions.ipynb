{
 "cells": [
  {
   "cell_type": "code",
   "execution_count": null,
   "metadata": {},
   "outputs": [],
   "source": [
    "#two types of functions\n",
    "#1:predefined functions\n",
    "#   -standard libraries\n",
    "#    -library(module) function\n",
    "\n",
    "\n",
    "\n",
    "#  Two types \n",
    "#  -preinstalled\n",
    "# -3rdparty\n",
    "# {\n",
    "#  Install with pip(pypi website)\n",
    "#  'pip install <package-name'\n",
    "#  -Install with Conda\n",
    "#  -' conda install <repo> <packagename>' \n",
    "# }\n",
    "\n",
    "\n",
    "# 2: -userdefined function\n",
    "import math\n",
    "math.factorial?\n",
    "import os       #   (to find the what does the func do)\n",
    "os?\n"
   ]
  },
  {
   "cell_type": "code",
   "execution_count": null,
   "metadata": {},
   "outputs": [],
   "source": [
    "#  user-DEFined functions\n",
    "# -function with Name\n",
    "# function with no return and no paranmeters\n",
    "#function with parameters\n",
    "#{   required parameters\n",
    "#     -default para\n",
    "#      -variable arguments\n",
    "#        -keyword variable agruments\n",
    "#     -function with return values\n",
    "#     function  with both para and retur Value\n",
    "#       -Generator\n",
    "# }\n",
    "\n",
    "# -function without name\n",
    "# (lamda function)or anonmyous function\n"
   ]
  },
  {
   "cell_type": "code",
   "execution_count": null,
   "metadata": {},
   "outputs": [],
   "source": [
    "# function with no return and no paranmeters\n",
    "add=r'/Users/ayush/Documents/Data/polygon.py'\n"
   ]
  },
  {
   "cell_type": "code",
   "execution_count": null,
   "metadata": {},
   "outputs": [],
   "source": [
    "def s(p,r,t):\n",
    "    ans=p*r*t/100\n",
    "    ''' calculate the si'''\n",
    "    print(f'si is {ans}')\n",
    "\n",
    "\n"
   ]
  },
  {
   "cell_type": "code",
   "execution_count": null,
   "metadata": {},
   "outputs": [],
   "source": [
    "is_prime=False\n",
    "i=int(2)\n",
    "number= int(17)\n",
    "i=2\n",
    "def a(number):\n",
    "    for i in range(i,number):\n",
    "              if(number%i  == 0 ):\n",
    "                   is_prime='false'\n",
    "              else:\n",
    "                    is_prime='True'\n",
    "\n",
    "\n",
    "b=a(17)\n",
    "print(b)\n",
    "if (a == True):\n",
    "      print(\"it is a prime\")\n",
    "else:\n",
    "      print(\"not prime\")\n",
    "\n",
    "    \n",
    "        "
   ]
  }
 ],
 "metadata": {
  "kernelspec": {
   "display_name": "base",
   "language": "python",
   "name": "python3"
  },
  "language_info": {
   "codemirror_mode": {
    "name": "ipython",
    "version": 3
   },
   "file_extension": ".py",
   "mimetype": "text/x-python",
   "name": "python",
   "nbconvert_exporter": "python",
   "pygments_lexer": "ipython3",
   "version": "3.10.10"
  },
  "orig_nbformat": 4
 },
 "nbformat": 4,
 "nbformat_minor": 2
}
