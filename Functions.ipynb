{
 "cells": [
  {
   "cell_type": "markdown",
   "metadata": {},
   "source": [
    "programming functions\n",
    "\n",
    "***predefined functions***\n",
    " # Standard libraries\n",
    "  the functions that are imported by default when executing python code\n",
    "***library (module) functions***\n",
    "   -- preinstalled\n",
    "  # for example\n",
    "        os\n",
    "        math\n",
    "      random\n",
    "     datetime\n",
    "# 3rd party\n",
    " # install with pip\n",
    "      pip install <package-name>\n",
    "        pip show <package-name>\n",
    " # install with conda \n",
    "        conda install <repo> <package-name>\n",
    "\n",
    "\n",
    " # user defined functions\n",
    "    functions with name\n",
    "        ***function without parameters and return value***\n",
    "       ***function with parameter***\n",
    "        .required parameters\n",
    "        .default parameters\n",
    "        .named parameters\n",
    "        .variable arguments\n",
    "        .variable keyword arguments\n",
    "        ***function with return value***\n",
    "        ***function with both parameters and return value***\n",
    "        ***generators***\n",
    "        ***functions without name***\n",
    "        lambda functions (anonymous functions)"
   ]
  },
  {
   "cell_type": "code",
   "execution_count": null,
   "metadata": {},
   "outputs": [],
   "source": [
    "import math\n",
    "math.factorial?\n",
    "import os       #   (to find the what does the func do)\n",
    "os?\n"
   ]
  },
  {
   "cell_type": "code",
   "execution_count": null,
   "metadata": {},
   "outputs": [],
   "source": [
    "# function with no return and no paranmeters\n",
    "add=r'/Users/ayush/Documents/Data/polygon.py'\n"
   ]
  },
  {
   "cell_type": "code",
   "execution_count": null,
   "metadata": {},
   "outputs": [],
   "source": [
    "def s(p,r,t):\n",
    "    ans=p*r*t/100\n",
    "    ''' calculate the si'''\n",
    "    print(f'si is {ans}')\n",
    "\n",
    "\n",
    "s(1000,5,2)"
   ]
  },
  {
   "cell_type": "code",
   "execution_count": 2,
   "metadata": {},
   "outputs": [],
   "source": [
    "is_prime=False\n",
    "\n",
    "def check_prime(num):\n",
    "    i=2\n",
    "    for i in num:\n",
    "        if num%2==0:\n",
    "          is_prime=False\n",
    "        else:\n",
    "            is_prime=True\n",
    "\n",
    "a=check_prime(3)\n",
    "        \n",
    "if a:\n",
    "    print('prime')\n",
    "else:\n",
    "    print\n",
    "\n"
   ]
  },
  {
   "cell_type": "code",
   "execution_count": null,
   "metadata": {},
   "outputs": [],
   "source": [
    "def hypotenous(p=1,b=1): #b=1 default arguments\n",
    "    h=(p**2 +b**2) ** 0.5\n",
    "    print (h)\n",
    "hypotenous(12)\n",
    "hypotenous(12,5)\n",
    "hypotenous()\n",
    "hypotenous(p=13,b=12) #named arguments/keyword argu\n",
    "hypotenous(12,b=13) # positional arguments "
   ]
  },
  {
   "cell_type": "code",
   "execution_count": null,
   "metadata": {},
   "outputs": [],
   "source": [
    "def n(fn,mn,ln):\n",
    "    return (f'{fn} {mn} {ln}')\n",
    "\n",
    "\n",
    "\n",
    "n(fn='ayush',ln='bhardwaj',mn='')"
   ]
  },
  {
   "cell_type": "code",
   "execution_count": null,
   "metadata": {},
   "outputs": [],
   "source": [
    "#keyword arguments\n",
    "def mutlipler(*nums):\n",
    "    ans=1\n",
    "    for i in nums:\n",
    "        ans *=i\n",
    "    print(ans)\n",
    "\n",
    "mutlipler()\n",
    "mutlipler(2)\n",
    "mutlipler(2,3,4,5,6)\n",
    "mutlipler(2,3,4,5,6,78,9,0)\n"
   ]
  },
  {
   "cell_type": "code",
   "execution_count": null,
   "metadata": {},
   "outputs": [],
   "source": [
    "def num_check(x):\n",
    "    if x%2==0:\n",
    "        return 'even'\n",
    "    else:return 'odd'\n",
    "\n",
    "print(num_check(2))\n",
    "\n"
   ]
  },
  {
   "cell_type": "code",
   "execution_count": 4,
   "metadata": {},
   "outputs": [
    {
     "name": "stdout",
     "output_type": "stream",
     "text": [
      "12345\n"
     ]
    }
   ],
   "source": [
    "# Arbitrart arguments\n",
    "# *argv\n",
    "# *kwargs\n",
    "\n",
    "def sentence(*argv):\n",
    "    for i in argv:\n",
    "       return i\n",
    "a=int(input(\"enter the numbers\"))\n",
    "print (sentence(a))"
   ]
  },
  {
   "cell_type": "code",
   "execution_count": null,
   "metadata": {},
   "outputs": [],
   "source": [
    "# **kwargs"
   ]
  },
  {
   "cell_type": "code",
   "execution_count": null,
   "metadata": {},
   "outputs": [],
   "source": [
    "import math\n",
    "m=lambda a,b:(f' greater is {a}') if a>b else (f' greater is {b}')\n",
    "m(12,13)\n",
    "m=lambda a,b:print(max(a,b) )\n",
    "m(12,13)\n",
    "m=lambda x:True if x%2==0 else False\n",
    "m(10)\n"
   ]
  },
  {
   "cell_type": "code",
   "execution_count": null,
   "metadata": {},
   "outputs": [],
   "source": [
    "def cube(x):\n",
    "    return x**3\n",
    "\n",
    "cube(3)"
   ]
  },
  {
   "cell_type": "code",
   "execution_count": null,
   "metadata": {},
   "outputs": [],
   "source": [
    "hy=lambda p,b:(p**2+b**2)**0.5\n",
    "print(hy(12,5))"
   ]
  },
  {
   "cell_type": "code",
   "execution_count": null,
   "metadata": {},
   "outputs": [],
   "source": [
    "#using lambda functions\n",
    "cube=lambda x:x**3\n",
    "print(cube(4))"
   ]
  },
  {
   "cell_type": "code",
   "execution_count": null,
   "metadata": {},
   "outputs": [],
   "source": [
    "# make a list using lambda func()\n",
    "arr=[lambda arg=x:arg for x in range(5)]\n",
    "for i in arr:\n",
    "    print(i())\n",
    "\n",
    "\n"
   ]
  },
  {
   "cell_type": "code",
   "execution_count": null,
   "metadata": {},
   "outputs": [],
   "source": [
    "#filter #map #sort using lambda"
   ]
  },
  {
   "cell_type": "markdown",
   "metadata": {},
   "source": [
    "**generator** functions they are the functions that generate lazy object\n",
    "\n",
    "\n",
    "**uses**\n",
    "( memory optimization )\n",
    "\n"
   ]
  },
  {
   "cell_type": "code",
   "execution_count": null,
   "metadata": {},
   "outputs": [],
   "source": [
    "\n",
    "        "
   ]
  }
 ],
 "metadata": {
  "kernelspec": {
   "display_name": "base",
   "language": "python",
   "name": "python3"
  },
  "language_info": {
   "codemirror_mode": {
    "name": "ipython",
    "version": 3
   },
   "file_extension": ".py",
   "mimetype": "text/x-python",
   "name": "python",
   "nbconvert_exporter": "python",
   "pygments_lexer": "ipython3",
   "version": "3.10.10"
  },
  "orig_nbformat": 4
 },
 "nbformat": 4,
 "nbformat_minor": 2
}
