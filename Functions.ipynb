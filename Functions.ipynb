{
 "cells": [
  {
   "cell_type": "code",
   "execution_count": null,
   "metadata": {},
   "outputs": [],
   "source": [
    "#two types of functions\n",
    "#1:predefined functions\n",
    "#   -standard libraries\n",
    "#    -library(module) function\n",
    "\n",
    "\n",
    "\n",
    "#  Two types \n",
    "#  -preinstalled\n",
    "# -3rdparty\n",
    "# {\n",
    "#  Install with pip(pypi website)\n",
    "#  'pip install <package-name'\n",
    "#  -Install with Conda\n",
    "#  -' conda install <repo> <packagename>' \n",
    "# }\n",
    "\n",
    "\n",
    "# 2: -userdefined function\n",
    "import math\n",
    "math.factorial?\n",
    "import os       #   (to find the what does the func do)\n",
    "os?\n"
   ]
  },
  {
   "cell_type": "code",
   "execution_count": null,
   "metadata": {},
   "outputs": [],
   "source": []
  },
  {
   "cell_type": "code",
   "execution_count": null,
   "metadata": {},
   "outputs": [],
   "source": [
    "#  user-DEFined functions\n",
    "# -function with Name\n",
    "# function with no return and no paranmeters\n",
    "#function with parameters\n",
    "#{   required parameters\n",
    "#     -default para\n",
    "#      -variable arguments\n",
    "#        - variable  keyword  agruments\n",
    "#     -function with return values\n",
    "#     function  with both para and retur Value\n",
    "#       -Generator\n",
    "# }\n",
    "\n",
    "# -function without name\n",
    "# (lamda function)or anonmyous function\n"
   ]
  },
  {
   "cell_type": "code",
   "execution_count": null,
   "metadata": {},
   "outputs": [],
   "source": [
    "# function with no return and no paranmeters\n",
    "add=r'/Users/ayush/Documents/Data/polygon.py'\n"
   ]
  },
  {
   "cell_type": "code",
   "execution_count": 5,
   "metadata": {},
   "outputs": [
    {
     "name": "stdout",
     "output_type": "stream",
     "text": [
      "si is 100.0\n"
     ]
    }
   ],
   "source": [
    "def s(p,r,t):\n",
    "    ans=p*r*t/100\n",
    "    ''' calculate the si'''\n",
    "    print(f'si is {ans}')\n",
    "\n",
    "\n",
    "s(1000,5,2)"
   ]
  },
  {
   "cell_type": "code",
   "execution_count": null,
   "metadata": {},
   "outputs": [],
   "source": [
    "# is_prime=False\n",
    "# i=int(2)\n",
    "# number= int(17)\n",
    "# i=2\n",
    "# def a(number):\n",
    "#     for i in range(i,number):\n",
    "#               if(number%i  == 0 ):\n",
    "#                    is_prime='false'\n",
    "#               else:\n",
    "#                   is_prime='True'\n",
    "\n",
    "\n",
    "\n",
    "\n",
    "    \n",
    "        "
   ]
  },
  {
   "cell_type": "code",
   "execution_count": 11,
   "metadata": {},
   "outputs": [
    {
     "name": "stdout",
     "output_type": "stream",
     "text": [
      "12.041594578792296\n",
      "13.0\n",
      "1.4142135623730951\n",
      "17.69180601295413\n",
      "17.69180601295413\n"
     ]
    }
   ],
   "source": [
    "def hypotenous(p=1,b=1): #b=1 default arguments\n",
    "    h=(p**2 +b**2) ** 0.5\n",
    "    print (h)\n",
    "hypotenous(12)\n",
    "hypotenous(12,5)\n",
    "hypotenous()\n",
    "hypotenous(p=13,b=12) #named arguments/keyword argu\n",
    "hypotenous(12,b=13) # positional arguments "
   ]
  },
  {
   "cell_type": "code",
   "execution_count": 11,
   "metadata": {},
   "outputs": [
    {
     "data": {
      "text/plain": [
       "'ayush  bhardwaj'"
      ]
     },
     "execution_count": 11,
     "metadata": {},
     "output_type": "execute_result"
    }
   ],
   "source": [
    "def n(fn,mn,ln):\n",
    "    return (f'{fn} {mn} {ln}')\n",
    "\n",
    "\n",
    "\n",
    "n(fn='ayush',ln='bhardwaj',mn='')"
   ]
  },
  {
   "cell_type": "code",
   "execution_count": 3,
   "metadata": {},
   "outputs": [
    {
     "name": "stdout",
     "output_type": "stream",
     "text": [
      "1\n",
      "2\n",
      "720\n",
      "0\n"
     ]
    }
   ],
   "source": [
    "#keyword arguments\n",
    "def mutlipler(*nums):\n",
    "    ans=1\n",
    "    for i in nums:\n",
    "        ans *=i\n",
    "    print(ans)\n",
    "\n",
    "mutlipler()\n",
    "mutlipler(2)\n",
    "mutlipler(2,3,4,5,6)\n",
    "mutlipler(2,3,4,5,6,78,9,0)\n"
   ]
  },
  {
   "cell_type": "code",
   "execution_count": 6,
   "metadata": {},
   "outputs": [
    {
     "name": "stdout",
     "output_type": "stream",
     "text": [
      "even\n"
     ]
    }
   ],
   "source": [
    "def num_check(x):\n",
    "    if x%2==0:\n",
    "        return 'even'\n",
    "    else:return 'odd'\n",
    "\n",
    "print(num_check(2))\n",
    "\n"
   ]
  },
  {
   "cell_type": "code",
   "execution_count": 34,
   "metadata": {},
   "outputs": [
    {
     "name": "stdout",
     "output_type": "stream",
     "text": [
      "12345\n",
      "\n"
     ]
    }
   ],
   "source": [
    "# Arbitrart arguments\n",
    "# *argv\n",
    "# *kwargs\n",
    "\n",
    "def sentence(*argv):\n",
    "    for i in argv:\n",
    "      print (i)\n",
    "    return ''\n",
    "a=int(input(\"enter the numbers\"))\n",
    "print (sentence(a))"
   ]
  },
  {
   "cell_type": "code",
   "execution_count": null,
   "metadata": {},
   "outputs": [],
   "source": [
    "# **kwargs"
   ]
  },
  {
   "cell_type": "code",
   "execution_count": 58,
   "metadata": {},
   "outputs": [
    {
     "name": "stdout",
     "output_type": "stream",
     "text": [
      "13\n"
     ]
    },
    {
     "data": {
      "text/plain": [
       "True"
      ]
     },
     "execution_count": 58,
     "metadata": {},
     "output_type": "execute_result"
    }
   ],
   "source": [
    "import math\n",
    "m=lambda a,b:(f' greater is {a}') if a>b else (f' greater is {b}')\n",
    "m(12,13)\n",
    "m=lambda a,b:print(max(a,b) )\n",
    "m(12,13)\n",
    "m=lambda x:True if x%2==0 else False\n",
    "m(10)\n"
   ]
  },
  {
   "cell_type": "code",
   "execution_count": 44,
   "metadata": {},
   "outputs": [
    {
     "data": {
      "text/plain": [
       "27"
      ]
     },
     "execution_count": 44,
     "metadata": {},
     "output_type": "execute_result"
    }
   ],
   "source": [
    "def cube(x):\n",
    "    return x**3\n",
    "\n",
    "cube(3)"
   ]
  },
  {
   "cell_type": "code",
   "execution_count": 51,
   "metadata": {},
   "outputs": [
    {
     "name": "stdout",
     "output_type": "stream",
     "text": [
      "13.0\n"
     ]
    }
   ],
   "source": [
    "hy=lambda p,b:(p**2+b**2)**0.5\n",
    "print(hy(12,5))"
   ]
  },
  {
   "cell_type": "code",
   "execution_count": 46,
   "metadata": {},
   "outputs": [
    {
     "name": "stdout",
     "output_type": "stream",
     "text": [
      "64\n"
     ]
    }
   ],
   "source": [
    "#using lambda functions\n",
    "cube=lambda x:x**3\n",
    "print(cube(4))"
   ]
  },
  {
   "cell_type": "code",
   "execution_count": 61,
   "metadata": {},
   "outputs": [
    {
     "name": "stdout",
     "output_type": "stream",
     "text": [
      "0\n",
      "1\n",
      "2\n",
      "3\n",
      "4\n"
     ]
    }
   ],
   "source": [
    "# make a list using lambda func()\n",
    "arr=[lambda arg=x:arg for x in range(5)]\n",
    "for i in arr:\n",
    "    print(i())\n",
    "\n",
    "\n"
   ]
  },
  {
   "cell_type": "code",
   "execution_count": 1,
   "metadata": {},
   "outputs": [],
   "source": [
    "#filter #map #sort using lambda"
   ]
  },
  {
   "cell_type": "code",
   "execution_count": 2,
   "metadata": {},
   "outputs": [
    {
     "name": "stdout",
     "output_type": "stream",
     "text": [
      "[[0]]\n",
      "[[0, 0], [0, 0]]\n",
      "[[0, 0, 0], [0, 0, 0], [0, 0, 0]]\n",
      "[[0, 0, 0, 0], [0, 0, 0, 0], [0, 0, 0, 0], [0, 0, 0, 0]]\n",
      "[[0, 0, 0, 0], [0, 0, 0, 0], [0, 0, 0, 0], [0, 0, 0, 0], [0]]\n",
      "[[0, 0, 0, 0], [0, 0, 0, 0], [0, 0, 0, 0], [0, 0, 0, 0], [0, 0], [0, 0]]\n",
      "[[0, 0, 0, 0], [0, 0, 0, 0], [0, 0, 0, 0], [0, 0, 0, 0], [0, 0, 0], [0, 0, 0], [0, 0, 0]]\n",
      "[[0, 0, 0, 0], [0, 0, 0, 0], [0, 0, 0, 0], [0, 0, 0, 0], [0, 0, 0, 0], [0, 0, 0, 0], [0, 0, 0, 0], [0, 0, 0, 0]]\n",
      "[[0, 0, 0, 0], [0, 0, 0, 0], [0, 0, 0, 0], [0, 0, 0, 0], [0, 0, 0, 0], [0, 0, 0, 0], [0, 0, 0, 0], [0, 0, 0, 0], [0]]\n",
      "[[0, 0, 0, 0], [0, 0, 0, 0], [0, 0, 0, 0], [0, 0, 0, 0], [0, 0, 0, 0], [0, 0, 0, 0], [0, 0, 0, 0], [0, 0, 0, 0], [0, 0], [0, 0]]\n",
      "[[0, 0, 0, 0], [0, 0, 0, 0], [0, 0, 0, 0], [0, 0, 0, 0], [0, 0, 0, 0], [0, 0, 0, 0], [0, 0, 0, 0], [0, 0, 0, 0], [0, 0, 0], [0, 0, 0], [0, 0, 0]]\n",
      "[[0, 0, 0, 0], [0, 0, 0, 0], [0, 0, 0, 0], [0, 0, 0, 0], [0, 0, 0, 0], [0, 0, 0, 0], [0, 0, 0, 0], [0, 0, 0, 0], [0, 0, 0, 0], [0, 0, 0, 0], [0, 0, 0, 0], [0, 0, 0, 0]]\n"
     ]
    }
   ],
   "source": [
    "\n",
    "\n",
    "        "
   ]
  }
 ],
 "metadata": {
  "kernelspec": {
   "display_name": "base",
   "language": "python",
   "name": "python3"
  },
  "language_info": {
   "codemirror_mode": {
    "name": "ipython",
    "version": 3
   },
   "file_extension": ".py",
   "mimetype": "text/x-python",
   "name": "python",
   "nbconvert_exporter": "python",
   "pygments_lexer": "ipython3",
   "version": "3.10.10"
  },
  "orig_nbformat": 4
 },
 "nbformat": 4,
 "nbformat_minor": 2
}
