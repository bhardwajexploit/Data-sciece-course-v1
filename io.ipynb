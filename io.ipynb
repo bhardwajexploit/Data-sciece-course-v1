{
 "cells": [
  {
   "cell_type": "code",
   "execution_count": null,
   "metadata": {},
   "outputs": [],
   "source": [
    "name=input(\"enter your name \")\n",
    "age=input(\"enter your  age \")\n",
    "city=input(\"enter  the city \")\n",
    "x=int(input(\"enter number x \"))\n",
    "y=int(input(\"enter number y\"))\n",
    "# sep seprates the line using backslash \\n,\\t\n",
    "print(age,name,city,sep=\"\\n\",) \n",
    "#end helps in not changing the line(helps in printing info in loop)\n",
    "print(age,end=',')# end can be used with , \\n -\n",
    "print(name)\n",
    "# formattable string\n",
    "print(f\"name is {name} and age is {age}\")\n",
    "# two to print to decimal places \n",
    "print(f'{x}/{y}={x/y:.1f}') # 2f for 2 decimal places 3f "
   ]
  },
  {
   "cell_type": "code",
   "execution_count": 40,
   "metadata": {},
   "outputs": [
    {
     "name": "stdout",
     "output_type": "stream",
     "text": [
      "name                                   a\n",
      "age                                   20\n",
      "city                            lucknow \n",
      "address                   sarojini nagar\n",
      "name                       a                 \n",
      "age                       20                 \n",
      "city                   lucknow               \n",
      "address             sarojini nagar           \n"
     ]
    }
   ],
   "source": [
    "address=\"sarojini nagar\"\n",
    "#using :10 for spacing of 10 letters\n",
    "#Can't use \"\" in ''quotes\n",
    "#for right align using :> \n",
    "print(f'{\"name\":10}{name:>30}')\n",
    "print(f'{\"age\":10}{age:>30}')\n",
    "print(f'{\"city\":10}{city:>30}')\n",
    "print(f'{\"address\":10}{address:>30}')\n",
    "# for center align  use :^\n",
    "print(f'{\"name\":10}{name:^35}')\n",
    "print(f'{\"age\":10}{age:^35}')\n",
    "print(f'{\"city\":10}{city:^35}')\n",
    "print(f'{\"address\":10}{address:^35}')"
   ]
  },
  {
   "cell_type": "code",
   "execution_count": 1,
   "metadata": {},
   "outputs": [
    {
     "name": "stdout",
     "output_type": "stream",
     "text": [
      "result is 169.17262628855568\n"
     ]
    }
   ],
   "source": [
    "x=(int(input(\"enter x\")))\n",
    "y=(int(input(\"enter y\")))\n",
    "Res=x**2+y**2**0.5\n",
    "print(f'result is {Res}')\n"
   ]
  }
 ],
 "metadata": {
  "kernelspec": {
   "display_name": "base",
   "language": "python",
   "name": "python3"
  },
  "language_info": {
   "codemirror_mode": {
    "name": "ipython",
    "version": 3
   },
   "file_extension": ".py",
   "mimetype": "text/x-python",
   "name": "python",
   "nbconvert_exporter": "python",
   "pygments_lexer": "ipython3",
   "version": "3.10.10"
  },
  "orig_nbformat": 4
 },
 "nbformat": 4,
 "nbformat_minor": 2
}
