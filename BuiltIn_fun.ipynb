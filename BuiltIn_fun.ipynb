{
 "cells": [
  {
   "cell_type": "code",
   "execution_count": null,
   "metadata": {},
   "outputs": [],
   "source": [
    " #bult in funC() in py \n",
    "# Read online\n",
    "# SUM\n",
    "X=[2,3,4,5,6,7,8,8,9]\n",
    "print(sum(X))\n",
    "# reversed\n",
    "print(list(reversed(X))) \n",
    "#min max\n",
    "print(min(X),max(X))\n",
    "print(sorted(X))\n"
   ]
  },
  {
   "cell_type": "code",
   "execution_count": 20,
   "metadata": {},
   "outputs": [
    {
     "data": {
      "text/plain": [
       "True"
      ]
     },
     "execution_count": 20,
     "metadata": {},
     "output_type": "execute_result"
    }
   ],
   "source": [
    "#isinstance is used for checking data type \n",
    "X=[2,3,4,5,6,7,8,8,9]\n",
    "isinstance(X,(tuple,list,set))"
   ]
  },
  {
   "cell_type": "code",
   "execution_count": null,
   "metadata": {},
   "outputs": [],
   "source": [
    "# map filter  (mainly used in  lambda functions)\n",
    "data=[12,34,55,66,77,545,6]\n",
    "print(list(map(float,data)))\n",
    "#mapping is performing same operation on every data set \n",
    "exp=[2,3,4,5,6,8,9]\n",
    "print(list((map(pow,data,exp))))#pow fun()"
   ]
  },
  {
   "cell_type": "code",
   "execution_count": null,
   "metadata": {},
   "outputs": [],
   "source": [
    "x=[5,6,7,8,0,9,0,7,0,7,0]\n",
    "list(filter(bool,x))"
   ]
  },
  {
   "cell_type": "code",
   "execution_count": null,
   "metadata": {},
   "outputs": [],
   "source": [
    "# round()\n",
    "round(4.7)\n",
    "round(4.354353,2) \n",
    "round(4.3)"
   ]
  },
  {
   "cell_type": "code",
   "execution_count": null,
   "metadata": {},
   "outputs": [],
   "source": [
    "# all( gives true if all the values are non-zer0)\n",
    "x=[5,6,7,8,0,9,0,7,0,7,0]\n",
    "all(x)"
   ]
  },
  {
   "cell_type": "code",
   "execution_count": null,
   "metadata": {},
   "outputs": [],
   "source": [
    "# any(if any data is true then return true else false)\n",
    "x=[5,6,7,8,0,9,0,7,0,7,0]\n",
    "any(x)"
   ]
  },
  {
   "cell_type": "code",
   "execution_count": null,
   "metadata": {},
   "outputs": [],
   "source": [
    "#dir()\n",
    "dir(list)\n",
    "\n"
   ]
  },
  {
   "cell_type": "code",
   "execution_count": null,
   "metadata": {},
   "outputs": [],
   "source": [
    " #help used for getting help about funcations\n",
    "help(eval)"
   ]
  },
  {
   "cell_type": "code",
   "execution_count": 18,
   "metadata": {},
   "outputs": [
    {
     "data": {
      "text/plain": [
       "14"
      ]
     },
     "execution_count": 18,
     "metadata": {},
     "output_type": "execute_result"
    }
   ],
   "source": [
    "# eval is used to evaluale the lines of code\n",
    "a=2\n",
    "b=3\n",
    "eval('a + b * a * 2 ')"
   ]
  },
  {
   "cell_type": "code",
   "execution_count": 22,
   "metadata": {},
   "outputs": [
    {
     "data": {
      "text/plain": [
       "10.0"
      ]
     },
     "execution_count": 22,
     "metadata": {},
     "output_type": "execute_result"
    }
   ],
   "source": [
    "#example evaluate \n",
    "\n",
    "x=10\n",
    "code=input(\"convet it into float\" )\n",
    "eval(code)\n"
   ]
  },
  {
   "cell_type": "code",
   "execution_count": 37,
   "metadata": {},
   "outputs": [
    {
     "name": "stdout",
     "output_type": "stream",
     "text": [
      "from turtle import *\n",
      "\n",
      "#forward fd \n",
      "#fd(150)\n",
      "#left lt\n",
      "#lt(45)\n",
      "#fd(50)\n",
      "#right rt\n",
      "#rt(45)\n",
      "#\n",
      "#bk(150)\n",
      "#rt(45)\n",
      "\n",
      "\n",
      "\n",
      "speed(\"slowest\")\n",
      "#for square\n",
      "#fd(100)\n",
      "#rt(90)\n",
      "#fd(100)\n",
      "#rt(90)\n",
      "#fd(100)\n",
      "#rt(90)\n",
      "#fd(100)\n",
      "#rt(90)\n",
      "\n",
      "\n",
      "# for hexagon\n",
      "#fd(100)\n",
      "#rt(60)\n",
      "#fd(100)\n",
      "#rt(60)\n",
      "# fd(100)\n",
      "# rt(60)\n",
      "# fd(100)\n",
      "# rt(60)\n",
      "# fd(100)\n",
      "# rt(60)\n",
      "# fd(100)\n",
      "# rt(60)\n",
      "for i in range():\n",
      "    fd(100)\n",
      "    rt(360/10)\n",
      "\n",
      "\n",
      "\n",
      "hideturtle()# for hiding the turtle\n",
      "\n",
      "\n",
      "\n",
      "mainloop()# holds the window open\n",
      "\n"
     ]
    },
    {
     "data": {
      "text/plain": [
       "13"
      ]
     },
     "execution_count": 37,
     "metadata": {},
     "output_type": "execute_result"
    }
   ],
   "source": [
    "#File handling \n",
    "#open to open files\n",
    "print(open('t1.py').read())\n",
    "open('file.txt','w').write('hello file created \\n')\n",
    "#w() overrides the given the pre-written code  in the file (so use append  'a')\n",
    "open('file.txt','a').write(\"appended code\")\n",
    "\n"
   ]
  },
  {
   "cell_type": "code",
   "execution_count": null,
   "metadata": {},
   "outputs": [],
   "source": [
    " "
   ]
  }
 ],
 "metadata": {
  "kernelspec": {
   "display_name": "base",
   "language": "python",
   "name": "python3"
  },
  "language_info": {
   "codemirror_mode": {
    "name": "ipython",
    "version": 3
   },
   "file_extension": ".py",
   "mimetype": "text/x-python",
   "name": "python",
   "nbconvert_exporter": "python",
   "pygments_lexer": "ipython3",
   "version": "3.10.10"
  },
  "orig_nbformat": 4
 },
 "nbformat": 4,
 "nbformat_minor": 2
}
