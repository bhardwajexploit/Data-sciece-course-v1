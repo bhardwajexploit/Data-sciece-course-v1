{
 "cells": [
  {
   "cell_type": "markdown",
   "metadata": {},
   "source": [
    "## data structure\n",
    "-list (**important**)\n",
    "(indexed,ordered,mutable,[]) ** IT  has  11 funcations**\n",
    "\n",
    "-tuple \n",
    " indexed ,ordered,**immutable**,()\n",
    "\n",
    "-set(**important**)\n",
    "(un-indexed,unordered,mutable,no-duplicated,{})\n",
    "\n",
    "-dicitionary (**important**)\n",
    "(**un-indexed**,**key-value pairs** ,**ordered**,mutable,{})"
   ]
  },
  {
   "cell_type": "code",
   "execution_count": null,
   "metadata": {},
   "outputs": [],
   "source": [
    "#list\n",
    "x=[]#empty list\n",
    "y=['milk',30,'bread',50]\n",
    "xn=[1,2,3,4],[4,5,6],[34]#nested list\n",
    "print(xn)\n",
    "#list with 25 elements with value given to user\n",
    "xy=[1]*25\n",
    "print(xy)\n"
   ]
  },
  {
   "cell_type": "code",
   "execution_count": null,
   "metadata": {},
   "outputs": [],
   "source": [
    "\n",
    "kk=[]\n",
    "for i in range(3):\n",
    "    x=(input(\"enter\"))\n",
    "    kk.append(x)\n",
    "    print(kk)\n"
   ]
  },
  {
   "cell_type": "code",
   "execution_count": null,
   "metadata": {},
   "outputs": [],
   "source": []
  },
  {
   "cell_type": "code",
   "execution_count": null,
   "metadata": {},
   "outputs": [],
   "source": [
    "#slicing AND indexing\n",
    "print(kk[0])\n",
    "print(kk[:2])\n",
    "print(kk[-3:])\n",
    "print(x[::-1])"
   ]
  },
  {
   "cell_type": "code",
   "execution_count": null,
   "metadata": {},
   "outputs": [],
   "source": [
    "# List functions() total 11\n",
    "# -add\n",
    "# (append(),insert(),extend())\n",
    "\n",
    "# -remove\n",
    "# (remove() ,pop(),clear())\n",
    "\n",
    "# -utility\n",
    "#   index()\n",
    "# -count()\n",
    "# sort()\n",
    "# reverse()\n",
    "# copy()\n"
   ]
  },
  {
   "cell_type": "code",
   "execution_count": null,
   "metadata": {},
   "outputs": [],
   "source": [
    "Books=[]\n",
    "Books.append('Atmoic habits') # adds a single item\n",
    "Books.append('psychology of money')\n",
    "Books.append('Art of sub-consious mind')\n",
    "print(Books)\n",
    "Books.insert(1,\"do EPic shits\")\n",
    "print(Books)\n",
    "Books[2]= 'ayush'\n",
    "print(Books)"
   ]
  },
  {
   "cell_type": "code",
   "execution_count": null,
   "metadata": {},
   "outputs": [],
   "source": [
    "old_books=['ayush','bhardwaj','gg']\n",
    "Books.extend(old_books)\n",
    "print(Books,end='\\n')"
   ]
  },
  {
   "cell_type": "code",
   "execution_count": null,
   "metadata": {},
   "outputs": [],
   "source": [
    "#remove is used to remove the element from list removes first occurance\n",
    "if 'gg' in Books:\n",
    "  Books.remove(\"gg\")\n",
    "print(Books)\n"
   ]
  },
  {
   "cell_type": "code",
   "execution_count": null,
   "metadata": {},
   "outputs": [],
   "source": [
    "# pop  is used to pop the element by knowing the index\n",
    "Books.pop()\n",
    "print(Books)\n",
    "Books.pop() # removes the last index element of the list "
   ]
  },
  {
   "cell_type": "code",
   "execution_count": null,
   "metadata": {},
   "outputs": [],
   "source": [
    "#clear \n",
    "Books.clear()\n",
    "Books"
   ]
  },
  {
   "cell_type": "code",
   "execution_count": null,
   "metadata": {},
   "outputs": [],
   "source": [
    "data = [\n",
    "    \"The Shawshank Redemption\",\n",
    "    \"The Godfather\",\n",
    "    \"Pulp Fiction\",\n",
    "    \"The Dark Knight\",\n",
    "    \"Fight Club\",\n",
    "    \"Forrest Gump\",\n",
    "    \"Goodfellas\",\n",
    "    \"The Matrix\",\n",
    "    \"Star Wars: Episode V - The Empire Strikes Back\",\n",
    "    \"Inception\",\n",
    "    \"The Lord of the Rings: The Fellowship of the Ring\",\n",
    "    \"The Silence of the Lambs\",\n",
    "    \"Schindler's List\",\n",
    "    \"Saving Private Ryan\",\n",
    "    \"The Departed\",\n",
    "    \"The Avengers\",\n",
    "    \"The Lion King\",\n",
    "    \"Gladiator\",\n",
    "    \"The Prestige\",\n",
    "    \"The Social Network\",\n",
    "    \"Interstellar\",\n",
    "    \"The Godfather: Part II\",\n",
    "    \"The Green Mile\",\n",
    "    \"Se7en\",\n",
    "    \"The Usual Suspects\",\n",
    "    \"Braveheart\",\n",
    "    \"Inglourious Basterds\",\n",
    "    \"The Dark Knight Rises\",\n",
    "    \"The Wolf of Wall Street\",\n",
    "    \"Casablanca\",\n",
    "    \"The Great Gatsby\",\n",
    "    \"The Lord of the Rings: The Two Towers\",\n",
    "    \"The Shining\",\n",
    "    \"Schindler's List\",\n",
    "    \"Gone with the Wind\",\n",
    "    \"The Godfather: Part III\",\n",
    "    \"Citizen Kane\",\n",
    "    \"The Breakfast Club\",\n",
    "    \"Blade Runner\",\n",
    "    \"Eternal Sunshine of the Spotless Mind\",\n",
    "    \"The Pursuit of Happyness\",\n",
    "    \"The Sixth Sense\",\n",
    "    \"American Beauty\",\n",
    "    \"Jurassic Park\",\n",
    "    \"Avatar\",\n",
    "    \"The Terminator\",\n",
    "    \"Rocky\",\n",
    "    \"Back to the Future\",\n",
    "    \"The Exorcist\",\n",
    "    \"The Wizard of Oz\",\n",
    "    \"The Big Lebowski\",\n",
    "    \"The Grand Budapest Hotel\",\n",
    "    \"The Revenant\",\n",
    "    \"Jaws\",\n",
    "    \"La La Land\",\n",
    "    \"Titanic\",\n",
    "    \"Raiders of the Lost Ark\",\n",
    "    \"The Princess Bride\",\n",
    "    \"Reservoir Dogs\",\n",
    "    \"The Truman Show\",\n",
    "    \"Memento\",\n",
    "    \"Good Will Hunting\",\n",
    "    \"A Clockwork Orange\",\n",
    "    \"The Departed\",\n",
    "    \"Casino\",\n",
    "    \"Alien\",\n",
    "    \"The Prestige\",\n",
    "    \"The Social Network\",\n",
    "    \"No Country for Old Men\",\n",
    "    \"Drive\",\n",
    "    \"Blade Runner 2049\",\n",
    "    \"Moonlight\",\n",
    "    \"The Shape of Water\",\n",
    "    \"Get Out\",\n",
    "    \"Django Unchained\",\n",
    "    \"Mad Max: Fury Road\",\n",
    "    \"Whiplash\",\n",
    "    \"Birdman\",\n",
    "    \"The Hateful Eight\",\n",
    "    \"Spotlight\",\n",
    "    \"Arrival\",\n",
    "    \"Her\",\n",
    "    \"The Imitation Game\",\n",
    "    \"Silver Linings Playbook\",\n",
    "    \"Dallas Buyers Club\",\n",
    "    \"The Martian\",\n",
    "    \"Black Swan\",\n",
    "    \"The Artist\",\n",
    "    \"12 Years a Slave\",\n",
    "    \"Boyhood\",\n",
    "    \"Gravity\",\n",
    "    \"Argo\",\n",
    "    \"Manchester by the Sea\",\n",
    "    \"The Big Short\",\n",
    "    \"Room\",\n",
    "    \"The Wolf of Wall Street\",\n",
    "    \"A Star is Born\",\n",
    "]\n",
    "print(len(data))\n",
    "\n",
    "\n"
   ]
  },
  {
   "cell_type": "code",
   "execution_count": null,
   "metadata": {},
   "outputs": [],
   "source": [
    "#reverse the list in memory permanently\n",
    "data.reverse() \n",
    "print(data)\n",
    "data[1]"
   ]
  },
  {
   "cell_type": "code",
   "execution_count": null,
   "metadata": {},
   "outputs": [],
   "source": [
    "#sorting (1,A,a) this is order\n",
    "data.sort()\n",
    "print(data)\n",
    "# data.sort(reverse=True) in a,A,1 this is order\n",
    "\n"
   ]
  },
  {
   "cell_type": "code",
   "execution_count": null,
   "metadata": {},
   "outputs": [],
   "source": [
    "# count\n",
    "# data.count('A Star is Born')\n",
    "#index\n",
    "data.index('Arrival')"
   ]
  },
  {
   "cell_type": "code",
   "execution_count": 87,
   "metadata": {},
   "outputs": [
    {
     "name": "stdout",
     "output_type": "stream",
     "text": [
      "12 Years a Slave\n",
      "A Clockwork Orange\n",
      "A Star is Born\n",
      "Alien\n",
      "American Beauty\n",
      "Argo\n",
      "Arrival\n",
      "Avatar\n",
      "Back to the Future\n",
      "Birdman\n",
      "Black Swan\n",
      "Blade Runner\n",
      "Blade Runner 2049\n",
      "Boyhood\n",
      "Braveheart\n",
      "Casablanca\n",
      "Casino\n",
      "Citizen Kane\n",
      "Dallas Buyers Club\n",
      "Django Unchained\n",
      "Drive\n",
      "Eternal Sunshine of the Spotless Mind\n",
      "Fight Club\n",
      "Forrest Gump\n",
      "Get Out\n",
      "Gladiator\n",
      "Gone with the Wind\n",
      "Good Will Hunting\n",
      "Goodfellas\n",
      "Gravity\n",
      "Her\n",
      "Inception\n",
      "Inglourious Basterds\n",
      "Interstellar\n",
      "Jaws\n",
      "Jurassic Park\n",
      "La La Land\n",
      "Mad Max: Fury Road\n",
      "Manchester by the Sea\n",
      "Memento\n",
      "Moonlight\n",
      "No Country for Old Men\n",
      "Pulp Fiction\n",
      "Raiders of the Lost Ark\n",
      "Reservoir Dogs\n",
      "Rocky\n",
      "Room\n",
      "Saving Private Ryan\n",
      "Schindler's List\n",
      "Schindler's List\n",
      "Se7en\n",
      "Silver Linings Playbook\n",
      "Spotlight\n",
      "Star Wars: Episode V - The Empire Strikes Back\n",
      "The Artist\n",
      "The Avengers\n",
      "The Big Lebowski\n",
      "The Big Short\n",
      "The Breakfast Club\n",
      "The Dark Knight\n",
      "The Dark Knight Rises\n",
      "The Departed\n",
      "The Departed\n",
      "The Exorcist\n",
      "The Godfather\n",
      "The Godfather: Part II\n",
      "The Godfather: Part III\n",
      "The Grand Budapest Hotel\n",
      "The Great Gatsby\n",
      "The Green Mile\n",
      "The Hateful Eight\n",
      "The Imitation Game\n",
      "The Lion King\n",
      "The Lord of the Rings: The Fellowship of the Ring\n",
      "The Lord of the Rings: The Two Towers\n",
      "The Martian\n",
      "The Matrix\n",
      "The Prestige\n",
      "The Prestige\n",
      "The Princess Bride\n",
      "The Pursuit of Happyness\n",
      "The Revenant\n",
      "The Shape of Water\n",
      "The Shawshank Redemption\n",
      "The Shining\n",
      "The Silence of the Lambs\n",
      "The Sixth Sense\n",
      "The Social Network\n",
      "The Social Network\n",
      "The Terminator\n",
      "The Truman Show\n",
      "The Usual Suspects\n",
      "The Wizard of Oz\n",
      "The Wolf of Wall Street\n",
      "The Wolf of Wall Street\n",
      "Titanic\n",
      "Whiplash\n"
     ]
    }
   ],
   "source": [
    "d=data.copy()\n",
    "\n",
    "for i in d:\n",
    "    print(i)"
   ]
  },
  {
   "cell_type": "code",
   "execution_count": 86,
   "metadata": {},
   "outputs": [
    {
     "name": "stdout",
     "output_type": "stream",
     "text": [
      "[16, 18, 14, 5, 15, 4, 7, 6, 18, 7, 10, 12, 17, 7, 10, 10, 6, 12, 18, 16, 5, 37, 10, 12, 7, 9, 18, 17, 10, 7, 3, 9, 20, 12, 4, 13, 10, 18, 21, 7, 9, 22, 12, 23, 14, 5, 4, 19, 16, 16, 5, 23, 9, 46, 10, 12, 16, 13, 18, 15, 21, 12, 12, 12, 13, 22, 23, 24, 16, 14, 17, 18, 13, 49, 37, 11, 10, 12, 12, 18, 24, 12, 18, 24, 11, 24, 15, 18, 18, 14, 15, 18, 16, 23, 23, 7, 8]\n"
     ]
    }
   ],
   "source": [
    "a=[]\n",
    "for i in d:\n",
    "    l=len(i)\n",
    "    a.append(l)\n",
    "print(a)\n",
    "    "
   ]
  },
  {
   "cell_type": "markdown",
   "metadata": {},
   "source": [
    "# list compression\n",
    "\n",
    "new_list = [expression for item in iterable if condition]\n"
   ]
  },
  {
   "cell_type": "code",
   "execution_count": 89,
   "metadata": {},
   "outputs": [
    {
     "name": "stdout",
     "output_type": "stream",
     "text": [
      "[16, 18, 14, 5, 15, 4, 7, 6, 18, 7, 10, 12, 17, 7, 10, 10, 6, 12, 18, 16, 5, 37, 10, 12, 7, 9, 18, 17, 10, 7, 3, 9, 20, 12, 4, 13, 10, 18, 21, 7, 9, 22, 12, 23, 14, 5, 4, 19, 16, 16, 5, 23, 9, 46, 10, 12, 16, 13, 18, 15, 21, 12, 12, 12, 13, 22, 23, 24, 16, 14, 17, 18, 13, 49, 37, 11, 10, 12, 12, 18, 24, 12, 18, 24, 11, 24, 15, 18, 18, 14, 15, 18, 16, 23, 23, 7, 8]\n"
     ]
    }
   ],
   "source": [
    "#list comprehensation(used in case of creating a list from an existing list)\n",
    "sz=[len(i)for i in d]\n",
    "print(sz)"
   ]
  },
  {
   "cell_type": "code",
   "execution_count": 15,
   "metadata": {},
   "outputs": [
    {
     "name": "stdout",
     "output_type": "stream",
     "text": [
      "['kumar', 'bhardwaj', 'bhardwaj', 'rajppot', 'amrita', 'lee']\n"
     ]
    }
   ],
   "source": [
    "Names=['alex kumar','ayush bhardwaj','Saloni bhardwaj','raj rajppot','amrita','bruce lee']\n",
    "f=[n.split()[1] for n in Names]\n",
    "print(f)"
   ]
  },
  {
   "cell_type": "code",
   "execution_count": 7,
   "metadata": {},
   "outputs": [
    {
     "name": "stdout",
     "output_type": "stream",
     "text": [
      "[1, 27, 125]\n"
     ]
    }
   ],
   "source": [
    "nu=[1,2,3,4,5,6]\n",
    "sz=[i**3 for i in nu if i%2 !=0]\n",
    "print(sz)"
   ]
  }
 ],
 "metadata": {
  "kernelspec": {
   "display_name": "base",
   "language": "python",
   "name": "python3"
  },
  "language_info": {
   "codemirror_mode": {
    "name": "ipython",
    "version": 3
   },
   "file_extension": ".py",
   "mimetype": "text/x-python",
   "name": "python",
   "nbconvert_exporter": "python",
   "pygments_lexer": "ipython3",
   "version": "3.10.10"
  },
  "orig_nbformat": 4
 },
 "nbformat": 4,
 "nbformat_minor": 2
}
