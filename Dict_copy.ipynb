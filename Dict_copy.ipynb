{
 "cells": [
  {
   "cell_type": "code",
   "execution_count": 11,
   "metadata": {},
   "outputs": [
    {
     "data": {
      "text/plain": [
       "'lucknow'"
      ]
     },
     "execution_count": 11,
     "metadata": {},
     "output_type": "execute_result"
    }
   ],
   "source": [
    " #dictionaries\n",
    "x={\n",
    " 'firstname':'ayush',\n",
    " 'lastname':'bhardwaj',\n",
    "  'number':19,\n",
    "  'address':{\n",
    "      'house:no':123,\n",
    "      'Road':'sarojini nagar',\n",
    "      'City':'lucknow',\n",
    "  }\n",
    "}\n",
    "x['address']\n",
    "x['address']['City']"
   ]
  },
  {
   "cell_type": "code",
   "execution_count": 12,
   "metadata": {},
   "outputs": [
    {
     "name": "stdout",
     "output_type": "stream",
     "text": [
      "{'house:no': 123, 'Road': 'sarojini nagar', 'City': 'lucknow'}\n",
      "not found\n"
     ]
    }
   ],
   "source": [
    "#to access unknown data\n",
    "print(x.get('address'))\n",
    "print(x.get('Address','not found'))\n",
    "#changing entries\n",
    "x['number']= 8471003807\n",
    "\n"
   ]
  },
  {
   "cell_type": "code",
   "execution_count": 13,
   "metadata": {},
   "outputs": [
    {
     "data": {
      "text/plain": [
       "123"
      ]
     },
     "execution_count": 13,
     "metadata": {},
     "output_type": "execute_result"
    }
   ],
   "source": [
    "#pop()to remove thekey:pair dict\n",
    "x.pop('number')\n",
    "x['address'].pop('house:no')\n"
   ]
  },
  {
   "cell_type": "code",
   "execution_count": 14,
   "metadata": {},
   "outputs": [],
   "source": [
    "#clear( to clear dict)\n",
    "x.clear()"
   ]
  },
  {
   "cell_type": "code",
   "execution_count": 15,
   "metadata": {},
   "outputs": [
    {
     "data": {
      "text/plain": [
       "dict_keys([])"
      ]
     },
     "execution_count": 15,
     "metadata": {},
     "output_type": "execute_result"
    }
   ],
   "source": [
    "#key() to display keys()\n",
    "x.keys()"
   ]
  },
  {
   "cell_type": "code",
   "execution_count": 16,
   "metadata": {},
   "outputs": [
    {
     "data": {
      "text/plain": [
       "dict_values([])"
      ]
     },
     "execution_count": 16,
     "metadata": {},
     "output_type": "execute_result"
    }
   ],
   "source": [
    "#values()\n",
    "x.values()"
   ]
  },
  {
   "cell_type": "code",
   "execution_count": 17,
   "metadata": {},
   "outputs": [
    {
     "name": "stdout",
     "output_type": "stream",
     "text": [
      "dict_items([])\n"
     ]
    }
   ],
   "source": [
    "#pair for both key:values pair\n",
    "\n",
    "print(x.items())"
   ]
  },
  {
   "cell_type": "code",
   "execution_count": 18,
   "metadata": {},
   "outputs": [],
   "source": [
    "#default way only gives values to print a dict\n",
    "for i in x:\n",
    "    print(x[i])"
   ]
  },
  {
   "cell_type": "code",
   "execution_count": 19,
   "metadata": {},
   "outputs": [],
   "source": [
    "# expected way to print a dict\n",
    "for k,v in x.items():\n",
    "    print(k,v)"
   ]
  },
  {
   "cell_type": "code",
   "execution_count": 20,
   "metadata": {},
   "outputs": [
    {
     "name": "stdout",
     "output_type": "stream",
     "text": [
      "{'accounts': {'emp0': {'name': 'aksjdaks', 'salary': 2312, 'age': 12312},\n",
      "              'emp1': {'name': '1231', 'salary': 12312, 'age': 123123},\n",
      "              'emp2': {'name': '12312', 'salary': 12312, 'age': 3123},\n",
      "              'emp3': {'name': '12123', 'salary': 123, 'age': 123},\n",
      "              'emp4': {'name': '123', 'salary': 123, 'age': 123}}}\n"
     ]
    }
   ],
   "source": [
    "#create 5 employes in account section in acme company\n",
    "from pprint import pp\n",
    "acme={'accounts':{}}\n",
    "for i in range(5):\n",
    "    name=(input(\"etner the name\"))\n",
    "    salary=int(input(\"etner the salary\"))\n",
    "    age=int(input(\"etner the age\"))\n",
    "    acme[\"accounts\"][f'emp{i}']={\n",
    "        'name':name,\n",
    "        'salary':salary,\n",
    "        'age':age,\n",
    "    \n",
    "\n",
    "    }\n",
    "pp(acme)"
   ]
  },
  {
   "cell_type": "code",
   "execution_count": 21,
   "metadata": {},
   "outputs": [
    {
     "name": "stdout",
     "output_type": "stream",
     "text": [
      "27182\n"
     ]
    }
   ],
   "source": [
    "a=0\n",
    "for k,v in acme['accounts'].items():\n",
    " a+=(v['salary'])\n",
    "pp(a)\n"
   ]
  },
  {
   "cell_type": "code",
   "execution_count": 22,
   "metadata": {},
   "outputs": [
    {
     "name": "stdout",
     "output_type": "stream",
     "text": [
      "Contact not found\n",
      "Contact added successfully.\n"
     ]
    }
   ],
   "source": [
    "contact = {'police': 110}\n",
    "\n",
    "while True:\n",
    "    n = input(\"Enter the name of the contact (type 'exit' to quit): \")\n",
    "\n",
    "    if n == 'exit':\n",
    "        break\n",
    "\n",
    "    if n in contact:\n",
    "        print('Found contact🫡')\n",
    "        print('Name:', n)\n",
    "        print('Number:', contact[n])\n",
    "    else:\n",
    "        print(\"Contact not found\")\n",
    "        contact_number = input(\"Enter the number of the contact you want to enter: \")\n",
    "        contact[n] = contact_number\n",
    "        print('Contact added successfully.')\n",
    "\n",
    "\n"
   ]
  }
 ],
 "metadata": {
  "kernelspec": {
   "display_name": "base",
   "language": "python",
   "name": "python3"
  },
  "language_info": {
   "codemirror_mode": {
    "name": "ipython",
    "version": 3
   },
   "file_extension": ".py",
   "mimetype": "text/x-python",
   "name": "python",
   "nbconvert_exporter": "python",
   "pygments_lexer": "ipython3",
   "version": "3.10.10"
  },
  "orig_nbformat": 4
 },
 "nbformat": 4,
 "nbformat_minor": 2
}
