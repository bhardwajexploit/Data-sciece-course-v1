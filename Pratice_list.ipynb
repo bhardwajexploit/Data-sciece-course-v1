{
 "cells": [
  {
   "cell_type": "code",
   "execution_count": 3,
   "metadata": {},
   "outputs": [
    {
     "name": "stdout",
     "output_type": "stream",
     "text": [
      "10\n",
      "10\n",
      "20\n",
      "30\n",
      "40\n",
      "['10', '10', '20', '30', '40']\n"
     ]
    }
   ],
   "source": [
    "# Write a program that creates an empty list and then asks the user to input integers to add to the list. Print the final list.\n",
    "num=[]\n",
    "while True:\n",
    "    x=(input(\"enter a number\"))\n",
    "    if x=='exit':\n",
    "     break\n",
    "    else:\n",
    "        num.append(x)\n",
    "        print(x)\n",
    "print(num)\n",
    "\n",
    "    "
   ]
  },
  {
   "cell_type": "code",
   "execution_count": 27,
   "metadata": {},
   "outputs": [
    {
     "name": "stdout",
     "output_type": "stream",
     "text": [
      "not present \n"
     ]
    }
   ],
   "source": [
    "# write a program that creates a list of integers and then asks the user to input an integer to check if it exists in the list. Print a message indicating whether the integer is in the list or not.\n",
    "x=[45,5,6,3,5,76,6,7,8,9]\n",
    "num_find=int(input(\"enter the number to be found\"))\n",
    "if num_find in x:\n",
    "    print(f'element present')\n",
    "else:\n",
    "    print(\"not present \")"
   ]
  },
  {
   "cell_type": "code",
   "execution_count": 12,
   "metadata": {},
   "outputs": [
    {
     "name": "stdout",
     "output_type": "stream",
     "text": [
      "['lucknow', 'bhardwaj', 'ayush', 'Dehradhun']\n"
     ]
    }
   ],
   "source": [
    "# write a program that creates a list of strings and then sorts the list alphabetically. Print the sorted list.\n",
    "x1=['ayush','bhardwaj','Dehradhun','lucknow']\n",
    "x1.sort(reverse=True)\n",
    "print(x1)  "
   ]
  },
  {
   "cell_type": "code",
   "execution_count": 40,
   "metadata": {},
   "outputs": [
    {
     "name": "stdout",
     "output_type": "stream",
     "text": [
      "largest number is 98\n"
     ]
    }
   ],
   "source": [
    "largest=x[0]\n",
    "# rite a program that creates a list of integers and then finds the maximum value in the list. Print the maximum value.\n",
    "x=[11,44,56,98,65,56,75]\n",
    "a=len(x)-1\n",
    "for i in range(1,a):\n",
    "   if x[i]>largest:\n",
    "    largest=x[i]\n",
    "\n",
    "    \n",
    "print(f'largest number is {largest}')\n",
    "\n"
   ]
  },
  {
   "cell_type": "code",
   "execution_count": null,
   "metadata": {},
   "outputs": [],
   "source": [
    "# Write a program that creates two lists of integers and then finds the common elements between those two lists. Print the common elements."
   ]
  },
  {
   "cell_type": "code",
   "execution_count": 56,
   "metadata": {},
   "outputs": [
    {
     "name": "stdout",
     "output_type": "stream",
     "text": [
      "[]\n"
     ]
    }
   ],
   "source": [
    "# write a program that creates a list of strings and then removes all elements that contain a specific substring. Print the final list.\n"
   ]
  },
  {
   "cell_type": "code",
   "execution_count": 69,
   "metadata": {},
   "outputs": [
    {
     "data": {
      "text/plain": [
       "3"
      ]
     },
     "execution_count": 69,
     "metadata": {},
     "output_type": "execute_result"
    }
   ],
   "source": [
    "# Write a program that creates a nested list and then accesses a specific element in the list. Print the accessed element.\n",
    "x=[[1,2,3],\n",
    "   [4,5,6]]\n",
    "\n",
    "x[0][2] #here first bracket means row[] and second bracket means column\n"
   ]
  }
 ],
 "metadata": {
  "kernelspec": {
   "display_name": "base",
   "language": "python",
   "name": "python3"
  },
  "language_info": {
   "codemirror_mode": {
    "name": "ipython",
    "version": 3
   },
   "file_extension": ".py",
   "mimetype": "text/x-python",
   "name": "python",
   "nbconvert_exporter": "python",
   "pygments_lexer": "ipython3",
   "version": "3.10.10"
  },
  "orig_nbformat": 4
 },
 "nbformat": 4,
 "nbformat_minor": 2
}
