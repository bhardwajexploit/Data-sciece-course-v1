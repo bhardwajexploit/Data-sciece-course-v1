{
 "cells": [
  {
   "cell_type": "code",
   "execution_count": 3,
   "metadata": {},
   "outputs": [
    {
     "name": "stdout",
     "output_type": "stream",
     "text": [
      "10\n",
      "10\n",
      "20\n",
      "30\n",
      "40\n",
      "['10', '10', '20', '30', '40']\n"
     ]
    }
   ],
   "source": [
    "# Write a program that creates an empty list and then asks the user to input integers to add to the list. Print the final list.\n",
    "num=[]\n",
    "while True:\n",
    "    x=(input(\"enter a number\"))\n",
    "    if x=='exit':\n",
    "     break\n",
    "    else:\n",
    "        num.append(x)\n",
    "        print(x)\n",
    "print(num)\n",
    "\n",
    "    "
   ]
  },
  {
   "cell_type": "code",
   "execution_count": 27,
   "metadata": {},
   "outputs": [
    {
     "name": "stdout",
     "output_type": "stream",
     "text": [
      "not present \n"
     ]
    }
   ],
   "source": [
    "# write a program that creates a list of integers and then asks the user to input an integer to check if it exists in the list. Print a message indicating whether the integer is in the list or not.\n",
    "x=[45,5,6,3,5,76,6,7,8,9]\n",
    "num_find=int(input(\"enter the number to be found\"))\n",
    "if num_find in x:\n",
    "    print(f'element present')\n",
    "else:\n",
    "    print(\"not present \")"
   ]
  },
  {
   "cell_type": "code",
   "execution_count": 12,
   "metadata": {},
   "outputs": [
    {
     "name": "stdout",
     "output_type": "stream",
     "text": [
      "['lucknow', 'bhardwaj', 'ayush', 'Dehradhun']\n"
     ]
    }
   ],
   "source": [
    "# write a program that creates a list of strings and then sorts the list alphabetically. Print the sorted list.\n",
    "x1=['ayush','bhardwaj','Dehradhun','lucknow']\n",
    "x1.sort(reverse=True)\n",
    "print(x1)  "
   ]
  },
  {
   "cell_type": "code",
   "execution_count": 40,
   "metadata": {},
   "outputs": [
    {
     "name": "stdout",
     "output_type": "stream",
     "text": [
      "largest number is 98\n"
     ]
    }
   ],
   "source": [
    "largest=x[0]\n",
    "# rite a program that creates a list of integers and then finds the maximum value in the list. Print the maximum value.\n",
    "x=[11,44,56,98,65,56,75]\n",
    "a=len(x)-1\n",
    "for i in range(1,a):\n",
    "   if x[i]>largest:\n",
    "    largest=x[i]\n",
    "\n",
    "    \n",
    "print(f'largest number is {largest}')\n",
    "\n"
   ]
  },
  {
   "cell_type": "code",
   "execution_count": null,
   "metadata": {},
   "outputs": [],
   "source": [
    "# Write a program that creates two lists of integers and then finds the common elements between those two lists. Print the common elements."
   ]
  },
  {
   "cell_type": "code",
   "execution_count": 56,
   "metadata": {},
   "outputs": [
    {
     "name": "stdout",
     "output_type": "stream",
     "text": [
      "[]\n"
     ]
    }
   ],
   "source": [
    "# write a program that creates a list of strings and then removes all elements that contain a specific substring. Print the final list.\n"
   ]
  },
  {
   "cell_type": "code",
   "execution_count": 69,
   "metadata": {},
   "outputs": [
    {
     "data": {
      "text/plain": [
       "3"
      ]
     },
     "execution_count": 69,
     "metadata": {},
     "output_type": "execute_result"
    }
   ],
   "source": [
    "# Write a program that creates a nested list and then accesses a specific element in the list. Print the accessed element.\n",
    "x=[[1,2,3],\n",
    "   [4,5,6]]\n",
    "\n",
    "x[0][2] #here first bracket means row[] and second bracket means column\n"
   ]
  },
  {
   "cell_type": "code",
   "execution_count": 4,
   "metadata": {},
   "outputs": [
    {
     "data": {
      "text/plain": [
       "2"
      ]
     },
     "execution_count": 4,
     "metadata": {},
     "output_type": "execute_result"
    }
   ],
   "source": [
    "# Write a program that creates a list of integers and then removes all duplicates from the list. Print the final list.\n",
    "x=[1,2,3,4,5,6,7,8,9,10,9,1,2,]\n",
    "res=[]\n",
    "res=[*set(x)]\n",
    "res\n",
    "x.count()\n"
   ]
  },
  {
   "cell_type": "code",
   "execution_count": 9,
   "metadata": {},
   "outputs": [
    {
     "name": "stdout",
     "output_type": "stream",
     "text": [
      "largest string is the comdey show \n"
     ]
    }
   ],
   "source": [
    "# Write a program that creates a list of strings and then finds the longest string in the list. Print the longest string.\n",
    "x=['ayush bhardwaj','the comdey show ', 'action jackson']\n",
    "larg=len(x[0])\n",
    "a=len(x)-1\n",
    "for i in range(1,a):\n",
    "    if len(x[i]) >larg:\n",
    "        larg=x[i]\n",
    "\n",
    "print(f'largest string is {larg}')"
   ]
  },
  {
   "cell_type": "code",
   "execution_count": 8,
   "metadata": {},
   "outputs": [
    {
     "data": {
      "text/plain": [
       "30"
      ]
     },
     "execution_count": 8,
     "metadata": {},
     "output_type": "execute_result"
    }
   ],
   "source": [
    "# Write a program that creates a list of integers and then finds the sum of all the even numbers in the list. Print the sum.\n",
    "even_numbers=[]\n",
    "x=[1,2,3,4,5,6,7,8,9,10]\n",
    "sz=[num for num in x if num%2==0]\n",
    "even_numbers=sum(sz)\n",
    "even_numbers"
   ]
  },
  {
   "cell_type": "code",
   "execution_count": 11,
   "metadata": {},
   "outputs": [
    {
     "data": {
      "text/plain": [
       "[1, 2, 3, 4, 5, 7, 8, 9, 10]"
      ]
     },
     "execution_count": 11,
     "metadata": {},
     "output_type": "execute_result"
    }
   ],
   "source": [
    "# Write a program that creates a list of integers and then asks the user to input a position to remove an element from the list. Print the final list.\n",
    "x=[1,2,3,4,5,6,7,8,9,10]\n",
    "pos=int(input(\"enter a number\"))\n",
    "if pos ==-1:\n",
    "    print('invalid')\n",
    "else:\n",
    "    x.pop(pos)\n",
    "\n",
    "x\n"
   ]
  },
  {
   "cell_type": "code",
   "execution_count": 15,
   "metadata": {},
   "outputs": [
    {
     "data": {
      "text/plain": [
       "'ayush bhardwaj the comdey show  action jackson'"
      ]
     },
     "execution_count": 15,
     "metadata": {},
     "output_type": "execute_result"
    }
   ],
   "source": [
    "# Write a program that creates a list of strings and then concatenates all the strings into a single string. Print the final string.\n",
    "x=['ayush bhardwaj','the comdey show ', 'action jackson']\n",
    "a=\" \".join(x)\n",
    "a"
   ]
  },
  {
   "cell_type": "code",
   "execution_count": null,
   "metadata": {},
   "outputs": [],
   "source": [
    "# Write a program that creates a list of integers and then finds the median value of the list. Print the median.\n",
    "x=[1,2,3,4,5,6,7,8,9,10]\n",
    "#first sort the list\n",
    "\n"
   ]
  },
  {
   "cell_type": "code",
   "execution_count": 21,
   "metadata": {},
   "outputs": [
    {
     "data": {
      "text/plain": [
       "['action jackson', 'the comdey show ', 'ayush bhardwaj']"
      ]
     },
     "execution_count": 21,
     "metadata": {},
     "output_type": "execute_result"
    }
   ],
   "source": [
    "# rite a program that creates a list of strings and then reverses the order of the strings in the list. Print the reversed list.\n",
    "x=['ayush bhardwaj','the comdey show ', 'action jackson']\n",
    "x=x[::-1]     \n",
    "x"
   ]
  },
  {
   "cell_type": "code",
   "execution_count": 25,
   "metadata": {},
   "outputs": [
    {
     "name": "stdout",
     "output_type": "stream",
     "text": [
      "average is 5.5\n"
     ]
    }
   ],
   "source": [
    "x=[1,2,3,4,5,6,7,8,9,10]\n",
    "a=sum(x)\n",
    "b=len(x)\n",
    "y=a/b\n",
    "print(f'average is {y}')"
   ]
  },
  {
   "cell_type": "code",
   "execution_count": 27,
   "metadata": {},
   "outputs": [
    {
     "data": {
      "text/plain": [
       "9"
      ]
     },
     "execution_count": 27,
     "metadata": {},
     "output_type": "execute_result"
    }
   ],
   "source": [
    "# rite a program that creates a list of integers and then finds the index of a specific element in the list. Print the index.\n",
    "x=[1,2,3,4,5,6,7,8,9,10]\n",
    "inp=int(input(\"enter the numbers\"))\n",
    "if inp in x:\n",
    "    a=x.index(inp)\n",
    "\n",
    "a"
   ]
  },
  {
   "cell_type": "code",
   "execution_count": 5,
   "metadata": {},
   "outputs": [
    {
     "data": {
      "text/plain": [
       "['  ayush bhardwaj', '  the comdey show ', '  action jackson']"
      ]
     },
     "execution_count": 5,
     "metadata": {},
     "output_type": "execute_result"
    }
   ],
   "source": [
    "# Write a program that creates a list of strings and then removes all whitespace characters from each string in the list. Print the final list.\n",
    "x=['  ayush bhardwaj','  the comdey show ', '  action jackson']\n",
    "for i in x:\n",
    "    if \" \" in x:\n",
    "        x.remove(\" \")\n",
    "\n",
    "x"
   ]
  },
  {
   "cell_type": "code",
   "execution_count": 12,
   "metadata": {},
   "outputs": [
    {
     "data": {
      "text/plain": [
       "[1, 4, 9, 16, 25, 36, 49, 121, 81, 100]"
      ]
     },
     "execution_count": 12,
     "metadata": {},
     "output_type": "execute_result"
    }
   ],
   "source": [
    "# Write a program that uses the map function to create a new list that contains the squares of each element in a user inputted list of integers.\n",
    "x=[1,2,3,4,5,6,7,11,9,10]\n",
    "sz=lambda x:x**2\n",
    "d=list(map(sz,x))\n",
    "d"
   ]
  },
  {
   "cell_type": "code",
   "execution_count": 39,
   "metadata": {},
   "outputs": [
    {
     "data": {
      "text/plain": [
       "[11, 10, 9, 7, 6, 5, 4, 3, 2, 1]"
      ]
     },
     "execution_count": 39,
     "metadata": {},
     "output_type": "execute_result"
    }
   ],
   "source": [
    "# Write a program that creates a list of integers and then sorts the list in descending order. Print the sorted list.\n",
    "x=[1,2,3,4,5,6,7,11,9,10]\n",
    "x.sort(reverse=True)\n",
    "x\n"
   ]
  },
  {
   "cell_type": "code",
   "execution_count": 1,
   "metadata": {},
   "outputs": [
    {
     "data": {
      "text/plain": [
       "[10, 1, 2, 3, 4, 5, 6, 7, 11, 9, 10]"
      ]
     },
     "execution_count": 1,
     "metadata": {},
     "output_type": "execute_result"
    }
   ],
   "source": [
    "x=[1,2,3,4,5,6,7,11,9,10]\n",
    "num=int(input(\"enter the number\"))\n",
    "x.insert(0,num)\n",
    "x"
   ]
  },
  {
   "cell_type": "code",
   "execution_count": 4,
   "metadata": {},
   "outputs": [
    {
     "data": {
      "text/plain": [
       "[0, 0, 0, 0, 0, 1, 2, 3, 4, 5, 6, 7, 11, 9, 10]"
      ]
     },
     "execution_count": 4,
     "metadata": {},
     "output_type": "execute_result"
    }
   ],
   "source": [
    "# Write a program that creates two lists of integers and then concatenates those two lists into a single list. Print the final list.\n",
    "x=[1,2,3,4,5,6,7,11,9,10]\n",
    "x1=[0,0,0,0,0]\n",
    "f=x1+x\n",
    "f\n",
    "\n",
    "\n"
   ]
  },
  {
   "cell_type": "code",
   "execution_count": 28,
   "metadata": {},
   "outputs": [
    {
     "data": {
      "text/plain": [
       "'123456711910'"
      ]
     },
     "execution_count": 28,
     "metadata": {},
     "output_type": "execute_result"
    }
   ],
   "source": [
    "# Write a program that uses a lambda expression and the map function to convert a list of integers to a list of strings. Print the new list.\n",
    "x=[1,2,3,4,5,6,7,11,9,10]\n",
    "sz=lambda x:''.join(str(i)for i in x)\n",
    "a=sz(x)\n",
    "a\n",
    "\n",
    "\n"
   ]
  },
  {
   "cell_type": "code",
   "execution_count": 30,
   "metadata": {},
   "outputs": [
    {
     "data": {
      "text/plain": [
       "[11, 12, 13, 14, 15, 16, 17, 21, 19, 20]"
      ]
     },
     "execution_count": 30,
     "metadata": {},
     "output_type": "execute_result"
    }
   ],
   "source": [
    "# Write a program that uses a lambda expression and the map function to add 10 to each element in a list of integers. Print the new list.\n",
    "x=[1,2,3,4,5,6,7,11,9,10]\n",
    "sz=lambda x:x+10\n",
    "a=list(map(sz,x))\n",
    "a"
   ]
  }
 ],
 "metadata": {
  "kernelspec": {
   "display_name": "base",
   "language": "python",
   "name": "python3"
  },
  "language_info": {
   "codemirror_mode": {
    "name": "ipython",
    "version": 3
   },
   "file_extension": ".py",
   "mimetype": "text/x-python",
   "name": "python",
   "nbconvert_exporter": "python",
   "pygments_lexer": "ipython3",
   "version": "3.10.10"
  },
  "orig_nbformat": 4
 },
 "nbformat": 4,
 "nbformat_minor": 2
}
