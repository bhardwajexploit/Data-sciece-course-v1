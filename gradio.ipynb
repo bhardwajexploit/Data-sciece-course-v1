{
 "cells": [
  {
   "cell_type": "markdown",
   "metadata": {},
   "source": [
    "# Important Thing about Gradio\n",
    "Gradio offers two approaches to build apps:\n",
    "\n",
    "1. Interface and ChatInterface, Interface offers more customization and fine-tuning options compared to Block.\n",
    "\n",
    "2. Blocks, a Block is designed for simplicity and quick demos. It abstracts away the need to explicitly define input and output components."
   ]
  },
  {
   "cell_type": "markdown",
   "metadata": {},
   "source": [
    " # Block (gr.Blocks):\n",
    " - Simplicity:\n",
    " - Fast Prototyping\n",
    " - Less Customization:\n",
    " - Quick Setup\n",
    " - Automatic Inference: "
   ]
  },
  {
   "cell_type": "code",
   "execution_count": 21,
   "metadata": {},
   "outputs": [
    {
     "name": "stdout",
     "output_type": "stream",
     "text": [
      "Running on local URL:  http://127.0.0.1:7866\n",
      "\n",
      "To create a public link, set `share=True` in `launch()`.\n"
     ]
    },
    {
     "data": {
      "text/html": [
       "<div><iframe src=\"http://127.0.0.1:7866/\" width=\"100%\" height=\"500\" allow=\"autoplay; camera; microphone; clipboard-read; clipboard-write;\" frameborder=\"0\" allowfullscreen></iframe></div>"
      ],
      "text/plain": [
       "<IPython.core.display.HTML object>"
      ]
     },
     "metadata": {},
     "output_type": "display_data"
    },
    {
     "data": {
      "text/plain": []
     },
     "execution_count": 21,
     "metadata": {},
     "output_type": "execute_result"
    }
   ],
   "source": [
    "import gradio as gr\n",
    "\n",
    "def greet(name):#function \n",
    "    return \"Hello \" + name + \"!\"\n",
    "\n",
    "with gr.Blocks() as demo:\n",
    "    name = gr.Textbox(label=\"Name\")\n",
    "    output = gr.Textbox(label=\"Output Box\")\n",
    "    greet_btn = gr.Button(\"Greet\")\n",
    "    greet_btn.click(fn=greet, inputs=name, outputs=output, api_name=\"greet\")\n",
    "   \n",
    "\n",
    "demo.launch()"
   ]
  },
  {
   "cell_type": "markdown",
   "metadata": {},
   "source": [
    " # Interface (gr.Interface):\n",
    " - Customization:\n",
    " - Explicit Components: \n",
    " - Styling\n",
    " -  Advanced Features: Offers more advanced features like preprocessing, postprocessing, examples, and sidebars for a richer user experience."
   ]
  },
  {
   "cell_type": "code",
   "execution_count": 37,
   "metadata": {},
   "outputs": [
    {
     "name": "stdout",
     "output_type": "stream",
     "text": [
      "Running on local URL:  http://127.0.0.1:7872\n",
      "\n",
      "To create a public link, set `share=True` in `launch()`.\n"
     ]
    },
    {
     "data": {
      "text/html": [
       "<div><iframe src=\"http://127.0.0.1:7872/\" width=\"100%\" height=\"500\" allow=\"autoplay; camera; microphone; clipboard-read; clipboard-write;\" frameborder=\"0\" allowfullscreen></iframe></div>"
      ],
      "text/plain": [
       "<IPython.core.display.HTML object>"
      ]
     },
     "metadata": {},
     "output_type": "display_data"
    },
    {
     "data": {
      "text/plain": []
     },
     "execution_count": 37,
     "metadata": {},
     "output_type": "execute_result"
    }
   ],
   "source": [
    "import gradio as gr\n",
    "\n",
    "def greet(name):\n",
    "    return \"Hello \" + name + \"!\"\n",
    "\n",
    "examples = [\n",
    "    [\"Ayush\"],\n",
    "    [\"Udit\"],\n",
    "    [\"Anjali\"],\n",
    "]\n",
    "\n",
    "# Creating an instance of the Gradio interface class\n",
    "demo = gr.Interface(\n",
    "    fn=greet,\n",
    "    inputs=\"text\",\n",
    "    outputs=\"text\",\n",
    "    examples=examples,\n",
    "    title=\"Interface Demos\",  # Set the title for your interface here\n",
    "    description='ALL about interface functions ',\n",
    "    live=True\n",
    ")\n",
    "\n",
    "demo.launch()\n"
   ]
  },
  {
   "cell_type": "code",
   "execution_count": 15,
   "metadata": {},
   "outputs": [
    {
     "name": "stdout",
     "output_type": "stream",
     "text": [
      "Running on local URL:  http://127.0.0.1:7865\n",
      "\n",
      "To create a public link, set `share=True` in `launch()`.\n"
     ]
    },
    {
     "data": {
      "text/html": [
       "<div><iframe src=\"http://127.0.0.1:7865/\" width=\"100%\" height=\"500\" allow=\"autoplay; camera; microphone; clipboard-read; clipboard-write;\" frameborder=\"0\" allowfullscreen></iframe></div>"
      ],
      "text/plain": [
       "<IPython.core.display.HTML object>"
      ]
     },
     "metadata": {},
     "output_type": "display_data"
    },
    {
     "data": {
      "text/plain": []
     },
     "execution_count": 15,
     "metadata": {},
     "output_type": "execute_result"
    }
   ],
   "source": [
    "import random\n",
    "import gradio as gr\n",
    "\n",
    "def random_response(message, history):\n",
    "    return random.choice([\"hello\", \"DOnt disturb me \"])\n",
    "\n",
    "demo = gr.ChatInterface(random_response)\n",
    "\n",
    "demo.launch()"
   ]
  },
  {
   "cell_type": "code",
   "execution_count": 38,
   "metadata": {},
   "outputs": [
    {
     "name": "stderr",
     "output_type": "stream",
     "text": [
      "No model was supplied, defaulted to distilbert-base-uncased-finetuned-sst-2-english and revision af0f99b (https://huggingface.co/distilbert-base-uncased-finetuned-sst-2-english).\n",
      "Using a pipeline without specifying a model name and revision in production is not recommended.\n",
      "/var/folders/7x/hyffpnjs3ql7q2_ngpl2dmvc0000gn/T/ipykernel_1138/3839130242.py:17: GradioDeprecationWarning: Usage of gradio.inputs is deprecated, and will not be supported in the future, please import your component from gradio.components\n",
      "  inputs=gr.inputs.Textbox(),\n",
      "/var/folders/7x/hyffpnjs3ql7q2_ngpl2dmvc0000gn/T/ipykernel_1138/3839130242.py:17: GradioDeprecationWarning: `optional` parameter is deprecated, and it has no effect\n",
      "  inputs=gr.inputs.Textbox(),\n",
      "/var/folders/7x/hyffpnjs3ql7q2_ngpl2dmvc0000gn/T/ipykernel_1138/3839130242.py:17: GradioDeprecationWarning: `numeric` parameter is deprecated, and it has no effect\n",
      "  inputs=gr.inputs.Textbox(),\n",
      "/var/folders/7x/hyffpnjs3ql7q2_ngpl2dmvc0000gn/T/ipykernel_1138/3839130242.py:18: GradioDeprecationWarning: Usage of gradio.outputs is deprecated, and will not be supported in the future, please import your components from gradio.components\n",
      "  outputs=gr.outputs.Textbox(),\n"
     ]
    },
    {
     "name": "stdout",
     "output_type": "stream",
     "text": [
      "Running on local URL:  http://127.0.0.1:7873\n",
      "\n",
      "To create a public link, set `share=True` in `launch()`.\n"
     ]
    },
    {
     "data": {
      "text/html": [
       "<div><iframe src=\"http://127.0.0.1:7873/\" width=\"100%\" height=\"500\" allow=\"autoplay; camera; microphone; clipboard-read; clipboard-write;\" frameborder=\"0\" allowfullscreen></iframe></div>"
      ],
      "text/plain": [
       "<IPython.core.display.HTML object>"
      ]
     },
     "metadata": {},
     "output_type": "display_data"
    },
    {
     "data": {
      "text/plain": []
     },
     "execution_count": 38,
     "metadata": {},
     "output_type": "execute_result"
    },
    {
     "name": "stderr",
     "output_type": "stream",
     "text": [
      "Traceback (most recent call last):\n",
      "  File \"/Users/ayush/miniconda3/lib/python3.10/site-packages/gradio/routes.py\", line 442, in run_predict\n",
      "    output = await app.get_blocks().process_api(\n",
      "  File \"/Users/ayush/miniconda3/lib/python3.10/site-packages/gradio/blocks.py\", line 1389, in process_api\n",
      "    result = await self.call_function(\n",
      "  File \"/Users/ayush/miniconda3/lib/python3.10/site-packages/gradio/blocks.py\", line 1094, in call_function\n",
      "    prediction = await anyio.to_thread.run_sync(\n",
      "  File \"/Users/ayush/miniconda3/lib/python3.10/site-packages/anyio/to_thread.py\", line 33, in run_sync\n",
      "    return await get_asynclib().run_sync_in_worker_thread(\n",
      "  File \"/Users/ayush/miniconda3/lib/python3.10/site-packages/anyio/_backends/_asyncio.py\", line 877, in run_sync_in_worker_thread\n",
      "    return await future\n",
      "  File \"/Users/ayush/miniconda3/lib/python3.10/site-packages/anyio/_backends/_asyncio.py\", line 807, in run\n",
      "    result = context.run(func, *args)\n",
      "  File \"/Users/ayush/miniconda3/lib/python3.10/site-packages/gradio/utils.py\", line 703, in wrapper\n",
      "    response = f(*args, **kwargs)\n",
      "  File \"/var/folders/7x/hyffpnjs3ql7q2_ngpl2dmvc0000gn/T/ipykernel_1138/3839130242.py\", line 9, in predict_sentiment\n",
      "    result = sentiment_analyzer(text)\n",
      "  File \"/Users/ayush/miniconda3/lib/python3.10/site-packages/transformers/pipelines/text_classification.py\", line 155, in __call__\n",
      "    result = super().__call__(*args, **kwargs)\n",
      "  File \"/Users/ayush/miniconda3/lib/python3.10/site-packages/transformers/pipelines/base.py\", line 1122, in __call__\n",
      "    return self.run_single(inputs, preprocess_params, forward_params, postprocess_params)\n",
      "  File \"/Users/ayush/miniconda3/lib/python3.10/site-packages/transformers/pipelines/base.py\", line 1128, in run_single\n",
      "    model_inputs = self.preprocess(inputs, **preprocess_params)\n",
      "  File \"/Users/ayush/miniconda3/lib/python3.10/site-packages/transformers/pipelines/text_classification.py\", line 179, in preprocess\n",
      "    return self.tokenizer(inputs, return_tensors=return_tensors, **tokenizer_kwargs)\n",
      "  File \"/Users/ayush/miniconda3/lib/python3.10/site-packages/transformers/tokenization_utils_base.py\", line 2571, in __call__\n",
      "    raise ValueError(\"You need to specify either `text` or `text_target`.\")\n",
      "ValueError: You need to specify either `text` or `text_target`.\n"
     ]
    }
   ],
   "source": [
    "import gradio as gr\n",
    "from transformers import pipeline\n",
    "\n",
    "# Load the sentiment analysis pipeline from Hugging Face\n",
    "sentiment_analyzer = pipeline(\"sentiment-analysis\",)\n",
    "\n",
    "# Prediction function\n",
    "def predict_sentiment(text):\n",
    "    result = sentiment_analyzer(text)\n",
    "    sentiment_label = result[0]['label']\n",
    "    sentiment_score = result[0]['score']\n",
    "    return f\"Sentiment: {sentiment_label.capitalize()} (Score: {sentiment_score:.2f})\"\n",
    "\n",
    "# Create the Gradio interface\n",
    "iface = gr.Interface(\n",
    "    fn=predict_sentiment,\n",
    "    inputs=gr.inputs.Textbox(),\n",
    "    outputs=gr.outputs.Textbox(),\n",
    "    live=True,\n",
    "    title=\"Sentiment Analysis\",\n",
    "    description=\"Enter a text and get sentiment analysis results.\"\n",
    ")\n",
    "\n",
    "# Launch the interface\n",
    "iface.launch()\n"
   ]
  },
  {
   "cell_type": "code",
   "execution_count": null,
   "metadata": {},
   "outputs": [],
   "source": []
  }
 ],
 "metadata": {
  "kernelspec": {
   "display_name": "base",
   "language": "python",
   "name": "python3"
  },
  "language_info": {
   "codemirror_mode": {
    "name": "ipython",
    "version": 3
   },
   "file_extension": ".py",
   "mimetype": "text/x-python",
   "name": "python",
   "nbconvert_exporter": "python",
   "pygments_lexer": "ipython3",
   "version": "3.10.10"
  },
  "orig_nbformat": 4
 },
 "nbformat": 4,
 "nbformat_minor": 2
}
