{
 "cells": [
  {
   "cell_type": "code",
   "execution_count": null,
   "metadata": {},
   "outputs": [],
   "source": [
    "#Strings\n",
    "a=(input(\"enter a string\"))\n",
    "print(len(a))\n",
    "#mutline String \n",
    "string= '''\n",
    "sarojini nagar,\n",
    "lucknow,\n",
    "226008,\n",
    "'''\n",
    "\n"
   ]
  },
  {
   "cell_type": "code",
   "execution_count": null,
   "metadata": {},
   "outputs": [],
   "source": [
    "#Raw string used for accessing files \n",
    "add=r'/Users/ayush/Documents/Data/BuiltIn_fun.ipynb'"
   ]
  },
  {
   "cell_type": "code",
   "execution_count": null,
   "metadata": {},
   "outputs": [],
   "source": [
    "#String is imutable\n",
    "fr='apple'\n",
    "# fr[0]=b"
   ]
  },
  {
   "cell_type": "code",
   "execution_count": null,
   "metadata": {},
   "outputs": [],
   "source": [
    "#indexing\n",
    "for id,c in enumerate(fr):\n",
    "    print(id,c)"
   ]
  },
  {
   "cell_type": "code",
   "execution_count": null,
   "metadata": {},
   "outputs": [],
   "source": [
    "# reverse(negative) indexing is possible in python\n",
    "print(fr[-1],fr[-2],)#like this [-3]"
   ]
  },
  {
   "cell_type": "code",
   "execution_count": null,
   "metadata": {},
   "outputs": [],
   "source": [
    "#slicing\n",
    "nm='Nitin'\n",
    "nm[8:13]\n",
    "nm[-5:]# if nothing is given after: then read till end "
   ]
  },
  {
   "cell_type": "code",
   "execution_count": null,
   "metadata": {},
   "outputs": [],
   "source": [
    "#trying slicing\n",
    "fname=nm[:7]\n",
    "lname=nm[8:]\n"
   ]
  },
  {
   "cell_type": "code",
   "execution_count": null,
   "metadata": {},
   "outputs": [],
   "source": [
    "#reversing the string \n",
    "nm[::-1]"
   ]
  },
  {
   "attachments": {},
   "cell_type": "markdown",
   "metadata": {},
   "source": [
    "three types of fun()\n",
    "1:utility function()\n",
    "2:Validation fun()\n",
    "3:Formatting Fun()\n"
   ]
  },
  {
   "cell_type": "code",
   "execution_count": null,
   "metadata": {},
   "outputs": [],
   "source": [
    "#formatting ()\n",
    "msg=\"you should work hard\"\n",
    "print(msg.upper())\n",
    "print(msg.title()) #every Word first letter\n",
    "print(msg.capitalize())  #first word first letter\n",
    "print(msg.lower())\n",
    "print(msg.swapcase())"
   ]
  },
  {
   "cell_type": "code",
   "execution_count": null,
   "metadata": {},
   "outputs": [],
   "source": [
    "#validation fun()\n",
    "print(msg.isupper())\n",
    "print(msg.islower())\n",
    "print('hello'.isdigit())\n",
    "print(msg.isalpha())\n",
    "print(msg.isnumeric())\n",
    "print(msg.startswith('you'))\n",
    "print(msg.endswith('hard'))"
   ]
  },
  {
   "cell_type": "code",
   "execution_count": null,
   "metadata": {},
   "outputs": [],
   "source": [
    "file=(input(\"enter a file path\"))\n",
    "if file.endswith((\".py\")):\n",
    "    print(\"python file\")\n",
    "    cn=open(file).read()\n",
    "    print(cn)\n",
    "else:\n",
    "    print(\"write correctly\")"
   ]
  },
  {
   "cell_type": "code",
   "execution_count": null,
   "metadata": {},
   "outputs": [],
   "source": [
    "#utility fn()\n",
    "# find()\n",
    "a='''ayush bhardwaj, Hi today is a good day\n",
    "I live in sarojini nagar\n",
    "passcode-226008\n",
    "'''\n",
    "a.find(a)\n",
    "a.find('a',5 ,10)# if -1 is coming then false means can't find the sequence\n",
    "#replace\n",
    "a.replace('ayush','saloni').replace('a','h') #mutliple replaces can be used togther\n",
    "a.replace(' ','') #can be used to remove spaces\n",
    "#split \n",
    "a.split()# spaces are used as delimiter\n",
    "a.split(',')\n",
    "a.split('Hi')\n",
    "a.splitlines()\n"
   ]
  },
  {
   "cell_type": "code",
   "execution_count": null,
   "metadata": {},
   "outputs": [],
   "source": [
    "#join \n",
    "x=['hi','today','is','a','good','day']\n",
    "\n",
    "print(x)\n",
    "y=('_'.join(x))\n",
    "print('\"_\"'.join(x))# here underscore is gluestring There can be  mutliple strings\n",
    "\n",
    "\n",
    "#count string\n",
    "print(x.count('is'))\n",
    "print(y.lower().count('go'))\n",
    "\n",
    "#casefold for making the string same case\n",
    "y.casefold().count('go')\n",
    "\n",
    "\n"
   ]
  },
  {
   "cell_type": "code",
   "execution_count": null,
   "metadata": {},
   "outputs": [],
   "source": [
    "#strip removes heading and trailing spaces from the string (middle spaces are not counted )\n",
    "username=input('enter a name')\n",
    "if username.strip() == 'ayush': \n",
    "    print('welcome')\n"
   ]
  },
  {
   "cell_type": "code",
   "execution_count": null,
   "metadata": {},
   "outputs": [],
   "source": []
  }
 ],
 "metadata": {
  "kernelspec": {
   "display_name": "base",
   "language": "python",
   "name": "python3"
  },
  "language_info": {
   "codemirror_mode": {
    "name": "ipython",
    "version": 3
   },
   "file_extension": ".py",
   "mimetype": "text/x-python",
   "name": "python",
   "nbconvert_exporter": "python",
   "pygments_lexer": "ipython3",
   "version": "3.10.10"
  },
  "orig_nbformat": 4
 },
 "nbformat": 4,
 "nbformat_minor": 2
}
