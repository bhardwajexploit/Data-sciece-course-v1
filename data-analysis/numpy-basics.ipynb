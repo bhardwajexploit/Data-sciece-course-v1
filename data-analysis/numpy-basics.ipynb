{
 "cells": [
  {
   "cell_type": "code",
   "execution_count": 1,
   "metadata": {},
   "outputs": [],
   "source": [
    "import numpy as np"
   ]
  },
  {
   "cell_type": "code",
   "execution_count": 3,
   "metadata": {},
   "outputs": [
    {
     "data": {
      "text/plain": [
       "numpy.ndarray"
      ]
     },
     "execution_count": 3,
     "metadata": {},
     "output_type": "execute_result"
    }
   ],
   "source": [
    "#1-d array\n",
    "x=np.array([5,6,7,8])\n",
    "type(x)"
   ]
  },
  {
   "cell_type": "code",
   "execution_count": 5,
   "metadata": {},
   "outputs": [
    {
     "name": "stdout",
     "output_type": "stream",
     "text": [
      "[[1 2 3]\n",
      " [4 5 6]]\n"
     ]
    }
   ],
   "source": [
    "#2d array\n",
    "x2=np.array([[1,2,3],[4,5,6]])\n",
    "print(x2)"
   ]
  },
  {
   "cell_type": "code",
   "execution_count": 14,
   "metadata": {},
   "outputs": [
    {
     "name": "stderr",
     "output_type": "stream",
     "text": [
      "<>:2: SyntaxWarning: list indices must be integers or slices, not tuple; perhaps you missed a comma?\n",
      "<>:2: SyntaxWarning: list indices must be integers or slices, not tuple; perhaps you missed a comma?\n",
      "/var/folders/7x/hyffpnjs3ql7q2_ngpl2dmvc0000gn/T/ipykernel_14692/2800057570.py:2: SyntaxWarning: list indices must be integers or slices, not tuple; perhaps you missed a comma?\n",
      "  x3=np.array([[[1,2][3,4]],[[5,6],[7,8]]])\n",
      "/var/folders/7x/hyffpnjs3ql7q2_ngpl2dmvc0000gn/T/ipykernel_14692/2800057570.py:2: SyntaxWarning: list indices must be integers or slices, not tuple; perhaps you missed a comma?\n",
      "  x3=np.array([[[1,2][3,4]],[[5,6],[7,8]]])\n",
      "/var/folders/7x/hyffpnjs3ql7q2_ngpl2dmvc0000gn/T/ipykernel_14692/2800057570.py:2: SyntaxWarning: list indices must be integers or slices, not tuple; perhaps you missed a comma?\n",
      "  x3=np.array([[[1,2][3,4]],[[5,6],[7,8]]])\n"
     ]
    },
    {
     "ename": "TypeError",
     "evalue": "list indices must be integers or slices, not tuple",
     "output_type": "error",
     "traceback": [
      "\u001b[0;31m---------------------------------------------------------------------------\u001b[0m",
      "\u001b[0;31mTypeError\u001b[0m                                 Traceback (most recent call last)",
      "Cell \u001b[0;32mIn[14], line 2\u001b[0m\n\u001b[1;32m      1\u001b[0m \u001b[39m#3d array\u001b[39;00m\n\u001b[0;32m----> 2\u001b[0m x3\u001b[39m=\u001b[39mnp\u001b[39m.\u001b[39marray([[[\u001b[39m1\u001b[39;49m,\u001b[39m2\u001b[39;49m][\u001b[39m3\u001b[39;49m,\u001b[39m4\u001b[39;49m]],[[\u001b[39m5\u001b[39m,\u001b[39m6\u001b[39m],[\u001b[39m7\u001b[39m,\u001b[39m8\u001b[39m]]])\n\u001b[1;32m      3\u001b[0m x3\n",
      "\u001b[0;31mTypeError\u001b[0m: list indices must be integers or slices, not tuple"
     ]
    }
   ],
   "source": [
    "#3d array\n",
    "x3=np.array([[[1,2][3,4]],[[5,6],[7,8]]])\n",
    "x3\n"
   ]
  },
  {
   "cell_type": "markdown",
   "metadata": {},
   "source": [
    "# for seeing what any function does use ? after function\n",
    "\n",
    "# np.arange?\n",
    "\n",
    "# what are dunder functions\n"
   ]
  },
  {
   "cell_type": "code",
   "execution_count": 13,
   "metadata": {},
   "outputs": [
    {
     "data": {
      "text/plain": [
       "array([[0. , 0.2, 0.4, 0.6, 0.8, 1. , 1.2, 1.4, 1.6, 1.8],\n",
       "       [2. , 2.2, 2.4, 2.6, 2.8, 3. , 3.2, 3.4, 3.6, 3.8],\n",
       "       [4. , 4.2, 4.4, 4.6, 4.8, 5. , 5.2, 5.4, 5.6, 5.8],\n",
       "       [6. , 6.2, 6.4, 6.6, 6.8, 7. , 7.2, 7.4, 7.6, 7.8],\n",
       "       [8. , 8.2, 8.4, 8.6, 8.8, 9. , 9.2, 9.4, 9.6, 9.8]])"
      ]
     },
     "execution_count": 13,
     "metadata": {},
     "output_type": "execute_result"
    }
   ],
   "source": [
    "#sequential matrix ,np.arange() and np.linspace()\n",
    "\n",
    "np.arange(0,10,.2).reshape(5,10)\n",
    "#reshape"
   ]
  },
  {
   "cell_type": "code",
   "execution_count": 23,
   "metadata": {},
   "outputs": [
    {
     "data": {
      "text/plain": [
       "array([[ 0.        ,  0.15151515,  0.3030303 ,  0.45454545],\n",
       "       [ 0.60606061,  0.75757576,  0.90909091,  1.06060606],\n",
       "       [ 1.21212121,  1.36363636,  1.51515152,  1.66666667],\n",
       "       [ 1.81818182,  1.96969697,  2.12121212,  2.27272727],\n",
       "       [ 2.42424242,  2.57575758,  2.72727273,  2.87878788],\n",
       "       [ 3.03030303,  3.18181818,  3.33333333,  3.48484848],\n",
       "       [ 3.63636364,  3.78787879,  3.93939394,  4.09090909],\n",
       "       [ 4.24242424,  4.39393939,  4.54545455,  4.6969697 ],\n",
       "       [ 4.84848485,  5.        ,  5.15151515,  5.3030303 ],\n",
       "       [ 5.45454545,  5.60606061,  5.75757576,  5.90909091],\n",
       "       [ 6.06060606,  6.21212121,  6.36363636,  6.51515152],\n",
       "       [ 6.66666667,  6.81818182,  6.96969697,  7.12121212],\n",
       "       [ 7.27272727,  7.42424242,  7.57575758,  7.72727273],\n",
       "       [ 7.87878788,  8.03030303,  8.18181818,  8.33333333],\n",
       "       [ 8.48484848,  8.63636364,  8.78787879,  8.93939394],\n",
       "       [ 9.09090909,  9.24242424,  9.39393939,  9.54545455],\n",
       "       [ 9.6969697 ,  9.84848485, 10.        , 10.15151515],\n",
       "       [10.3030303 , 10.45454545, 10.60606061, 10.75757576],\n",
       "       [10.90909091, 11.06060606, 11.21212121, 11.36363636],\n",
       "       [11.51515152, 11.66666667, 11.81818182, 11.96969697],\n",
       "       [12.12121212, 12.27272727, 12.42424242, 12.57575758],\n",
       "       [12.72727273, 12.87878788, 13.03030303, 13.18181818],\n",
       "       [13.33333333, 13.48484848, 13.63636364, 13.78787879],\n",
       "       [13.93939394, 14.09090909, 14.24242424, 14.39393939],\n",
       "       [14.54545455, 14.6969697 , 14.84848485, 15.        ]])"
      ]
     },
     "execution_count": 23,
     "metadata": {},
     "output_type": "execute_result"
    }
   ],
   "source": [
    "\n",
    "np.linspace(0,15,100).reshape(25,4)\n"
   ]
  },
  {
   "cell_type": "code",
   "execution_count": 32,
   "metadata": {},
   "outputs": [
    {
     "name": "stdout",
     "output_type": "stream",
     "text": [
      "[[0.20040276 0.23742352 0.53865661 0.44074047]\n",
      " [0.35195007 0.15009261 0.12859901 0.88914269]\n",
      " [0.40907233 0.51340951 0.21358247 0.10454325]\n",
      " [0.25709534 0.03277405 0.12379541 0.09426999]]\n",
      "[[ 0.781523    0.43096504  1.48308167 -0.32207128]\n",
      " [-0.34187091 -1.87456669 -1.2712372  -1.22232406]\n",
      " [ 0.77844146  1.01277054 -1.62927233  0.57442086]\n",
      " [-1.64816429 -0.13162396 -0.57999108 -2.39130139]]\n",
      "[[ -8   8   8  -1]\n",
      " [ -8  -9   8 -10]\n",
      " [ -1   5  -5  -7]\n",
      " [ -6   1   4   9]]\n",
      "[[0.06465339 0.61653521 1.13950679]\n",
      " [0.69728559 1.09709149 0.33523427]\n",
      " [0.07332658 0.09069144 0.11342695]]\n",
      "[4 1 9 3 8 7 6 2 5]\n"
     ]
    }
   ],
   "source": [
    "# randomize matrix with np.random\n",
    "print(np.random.rand(4,4))\n",
    "\n",
    "#np.random.radn() #normal distribution\n",
    "print(np.random.randn(4,4))\n",
    "\n",
    "\n",
    "#np.random.randint()\n",
    "print(np.random.randint(-10,10,(4,4)))\n",
    "\n",
    "\n",
    "#np.random.uniform()\n",
    "print(np.random.uniform(0,2,(3,3))) # random float\n",
    "\n",
    "#np.random.permutation()\n",
    "print(np.random.permutation([1,2,3,4,5,6,7,8,9])) # random float\n",
    "\n",
    "\n",
    "\n"
   ]
  },
  {
   "cell_type": "code",
   "execution_count": 33,
   "metadata": {},
   "outputs": [
    {
     "name": "stdout",
     "output_type": "stream",
     "text": [
      "[[4 7 8 4]\n",
      " [8 7 0 1]\n",
      " [5 5 1 1]\n",
      " [1 0 7 4]]\n"
     ]
    }
   ],
   "source": [
    "xp=np.random.uniform(0,10,(4,4))\n",
    "print(xp.astype(int))"
   ]
  },
  {
   "cell_type": "markdown",
   "metadata": {},
   "source": [
    "# operations\n"
   ]
  },
  {
   "cell_type": "code",
   "execution_count": 37,
   "metadata": {},
   "outputs": [
    {
     "name": "stdout",
     "output_type": "stream",
     "text": [
      "[[ 6  0 -3]\n",
      " [-4 -5 -8]\n",
      " [ 3 -7  0]]\n",
      "[[ 3  9 -9]\n",
      " [ 5  8 -4]\n",
      " [-8  4 -1]]\n"
     ]
    }
   ],
   "source": [
    "a=np.random.randint(-10,10,(3,3))\n",
    "b=np.random.randint(-10,10,(3,3))\n",
    "print(a)\n",
    "print(b)\n"
   ]
  },
  {
   "cell_type": "code",
   "execution_count": 46,
   "metadata": {},
   "outputs": [
    {
     "data": {
      "text/plain": [
       "array([[ 0.6,  0. , -0.3],\n",
       "       [-0.4, -0.5, -0.8],\n",
       "       [ 0.3, -0.7,  0. ]])"
      ]
     },
     "execution_count": 46,
     "metadata": {},
     "output_type": "execute_result"
    }
   ],
   "source": [
    "#matrix and constant operations \n",
    "a * 10\n",
    "a /10\n"
   ]
  },
  {
   "cell_type": "code",
   "execution_count": 45,
   "metadata": {},
   "outputs": [
    {
     "name": "stdout",
     "output_type": "stream",
     "text": [
      "[[  9   9 -12]\n",
      " [  1   3 -12]\n",
      " [ -5  -3  -1]]\n",
      "[[  3  -9   6]\n",
      " [ -9 -13  -4]\n",
      " [ 11 -11   1]]\n",
      "[[ 2.          0.          0.33333333]\n",
      " [-0.8        -0.625       2.        ]\n",
      " [-0.375      -1.75       -0.        ]]\n"
     ]
    }
   ],
   "source": [
    "#same size matrix operations\n",
    "print(a + b)\n",
    "print(a  - b)\n",
    "print(a / b)"
   ]
  },
  {
   "cell_type": "code",
   "execution_count": 44,
   "metadata": {},
   "outputs": [
    {
     "data": {
      "text/plain": [
       "array([[  42,   42,  -51],\n",
       "       [  27, -108,   64],\n",
       "       [ -26,  -29,    1]])"
      ]
     },
     "execution_count": 44,
     "metadata": {},
     "output_type": "execute_result"
    }
   ],
   "source": [
    "#matrix multiplications\n",
    "np.matmul(a,b) #or np.dot(a,b)or a @ b"
   ]
  }
 ],
 "metadata": {
  "kernelspec": {
   "display_name": "base",
   "language": "python",
   "name": "python3"
  },
  "language_info": {
   "codemirror_mode": {
    "name": "ipython",
    "version": 3
   },
   "file_extension": ".py",
   "mimetype": "text/x-python",
   "name": "python",
   "nbconvert_exporter": "python",
   "pygments_lexer": "ipython3",
   "version": "3.10.10"
  },
  "orig_nbformat": 4
 },
 "nbformat": 4,
 "nbformat_minor": 2
}
